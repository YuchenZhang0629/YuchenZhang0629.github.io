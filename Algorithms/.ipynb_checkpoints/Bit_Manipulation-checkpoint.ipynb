{
 "cells": [
  {
   "cell_type": "markdown",
   "metadata": {},
   "source": [
    "# Bit Manipulation"
   ]
  },
  {
   "cell_type": "markdown",
   "metadata": {},
   "source": [
    "### Question 67: Binary Addition"
   ]
  },
  {
   "cell_type": "code",
   "execution_count": null,
   "metadata": {},
   "outputs": [],
   "source": [
    "def addBinary(a, b):\n",
    "    res = \"\"\n",
    "    carry = 0\n",
    "    a = a[::-1]\n",
    "    b = b[::-1]\n",
    "    for i in range(max(len(a), len(b))):\n",
    "        digitA = ord(a[i])-ord(\"0\") if i < len(a) else 0\n",
    "        digitB = ord(b[i])-ord(\"0\") if i < len(b) else 0\n",
    "        total = digitA+digitB+carry\n",
    "        char = str(total%2)\n",
    "        res = char+res\n",
    "        carry = total//2\n",
    "    if carry == 1:\n",
    "        res = \"1\"+res\n",
    "    return res"
   ]
  },
  {
   "cell_type": "markdown",
   "metadata": {},
   "source": [
    "### Question 78: All possible subsets\n",
    "Given an integer array nums of unique elements, return all possible subsets (the power set).\n",
    "\n",
    "The solution set must not contain duplicate subsets. Return the solution in any order."
   ]
  },
  {
   "cell_type": "code",
   "execution_count": 6,
   "metadata": {},
   "outputs": [],
   "source": [
    "\"\"\"\n",
    "We define a helper function that does DFS\n",
    "Recursively decides to either append or not append\n",
    "If depth = 3: append the subset to result no matter its length\n",
    "\"\"\"\n",
    "def subsets(nums):\n",
    "    res = []\n",
    "    subset = []\n",
    "    def dfs(i):\n",
    "        if i >= len(nums):\n",
    "            res.append(subset.copy())\n",
    "            return \n",
    "        # Decision to include\n",
    "        subset.append(nums[i])\n",
    "        dfs(i+1)\n",
    "        # Decision to not include\n",
    "        subset.pop()\n",
    "        dfs(i+1)\n",
    "    dfs(0)\n",
    "    return res"
   ]
  }
 ],
 "metadata": {
  "kernelspec": {
   "display_name": "Python 3",
   "language": "python",
   "name": "python3"
  },
  "language_info": {
   "codemirror_mode": {
    "name": "ipython",
    "version": 3
   },
   "file_extension": ".py",
   "mimetype": "text/x-python",
   "name": "python",
   "nbconvert_exporter": "python",
   "pygments_lexer": "ipython3",
   "version": "3.8.5"
  }
 },
 "nbformat": 4,
 "nbformat_minor": 4
}
