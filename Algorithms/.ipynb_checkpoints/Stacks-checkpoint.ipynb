{
 "cells": [
  {
   "cell_type": "markdown",
   "metadata": {},
   "source": [
    "# Stacks"
   ]
  },
  {
   "cell_type": "markdown",
   "metadata": {},
   "source": [
    "### Question 71: Simplify Path\n",
    "Given a string path, which is an absolute path (starting with a slash '/') to a file or directory in a Unix-style file system, convert it to the simplified canonical path."
   ]
  },
  {
   "cell_type": "code",
   "execution_count": null,
   "metadata": {},
   "outputs": [],
   "source": [
    "\"\"\"\n",
    "We are going to stop by each backslash to check whether cur is .. or .\n",
    "If it is the very start or has consecutive /'s, then set cur as empty.\n",
    "\"\"\"\n",
    "def simplifyPath(path):\n",
    "    stack = []\n",
    "    cur = \"\"\n",
    "    for c in path + \"/\":\n",
    "        if c == \"/\":\n",
    "            if cur == \"..\":\n",
    "                if stack:\n",
    "                    stack.pop()\n",
    "            elif cur != \"\" and cur != \".\":\n",
    "                stack.append(cur)\n",
    "            cur = \"\"\n",
    "        else:\n",
    "            cur += c\n",
    "    \n",
    "    return \"/\"+\"/\".join(stack)"
   ]
  },
  {
   "cell_type": "markdown",
   "metadata": {},
   "source": [
    "### Question 84: Largest Rectangle in histogram\n",
    "Given an array of integers heights representing the histogram's bar height where the width of each bar is 1, return the area of the largest rectangle in the histogram."
   ]
  },
  {
   "cell_type": "code",
   "execution_count": null,
   "metadata": {},
   "outputs": [],
   "source": [
    "def largestRectangleArea(heights):\n",
    "    max_area = 0\n",
    "    stack = []\n",
    "    for (i,h) in enumerate(heights):\n",
    "        start = i\n",
    "        while stack and stack[-1][1]>h:\n",
    "            index,height = stack.pop()\n",
    "            max_area = max(max_area,height*abs(i-index))\n",
    "            start = index\n",
    "        stack.append((start,h))\n",
    "    for i, h in stack:\n",
    "        max_area = max(max_area,h*(len(heights)-i))\n",
    "    return max_area"
   ]
  }
 ],
 "metadata": {
  "kernelspec": {
   "display_name": "Python 3",
   "language": "python",
   "name": "python3"
  },
  "language_info": {
   "codemirror_mode": {
    "name": "ipython",
    "version": 3
   },
   "file_extension": ".py",
   "mimetype": "text/x-python",
   "name": "python",
   "nbconvert_exporter": "python",
   "pygments_lexer": "ipython3",
   "version": "3.8.5"
  }
 },
 "nbformat": 4,
 "nbformat_minor": 4
}
