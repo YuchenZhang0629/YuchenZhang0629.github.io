{
 "cells": [
  {
   "cell_type": "markdown",
   "metadata": {},
   "source": [
    "### Question 407: Trapping Rain Water II\n",
    "Given an m x n integer matrix heightMap representing the height of each unit cell in a 2D elevation map, return the volume of water it can trap after raining."
   ]
  },
  {
   "cell_type": "code",
   "execution_count": null,
   "metadata": {},
   "outputs": [],
   "source": [
    "import heapq\n",
    "class Solution:\n",
    "    def trapRainWater(heightMap):\n",
    "        if len(heightMap) < 3:\n",
    "            return 0\n",
    "        m = len(heightMap)\n",
    "        n = len(heightMap[0])\n",
    "        \n",
    "        heap = []\n",
    "        heapq.heapify(heap)\n",
    "        visited = {}\n",
    "        \n",
    "        for row in range(m):\n",
    "            for col in range(n):\n",
    "                if row == 0 or row == m-1 or col == 0 or col == n-1:\n",
    "                    heapq.heappush(heap, (heightMap[row][col],row,col))\n",
    "                    visited[(row,col)] = True\n",
    "        \n",
    "        def neighbor(row,col):\n",
    "            res = []\n",
    "            if row-1 > 0:\n",
    "                res.append((row-1,col))\n",
    "            if col-1 > 0:\n",
    "                res.append((row,col-1))\n",
    "            if row+1 < m:\n",
    "                res.append((row+1,col))\n",
    "            if col+1 < n:\n",
    "                res.append((row,col+1))\n",
    "            return res\n",
    "        \n",
    "        while heap:\n",
    "            height,row,col = heapq.heappop(heap)\n",
    "            for x, y in getnbr(row,col):\n",
    "                if (x,y) not in visited:  \n",
    "                    res += max(0, height-heightMap[x][y])\n",
    "                    heapq.heappush(heap, (max(height, heightMap[x][y]),x,y))\n",
    "                    visited[(dx,dy)] = True\n",
    "        return res"
   ]
  }
 ],
 "metadata": {
  "kernelspec": {
   "display_name": "Python 3",
   "language": "python",
   "name": "python3"
  },
  "language_info": {
   "codemirror_mode": {
    "name": "ipython",
    "version": 3
   },
   "file_extension": ".py",
   "mimetype": "text/x-python",
   "name": "python",
   "nbconvert_exporter": "python",
   "pygments_lexer": "ipython3",
   "version": "3.8.5"
  }
 },
 "nbformat": 4,
 "nbformat_minor": 4
}
