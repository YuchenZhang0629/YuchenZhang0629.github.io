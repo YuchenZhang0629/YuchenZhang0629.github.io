{
 "cells": [
  {
   "cell_type": "markdown",
   "metadata": {},
   "source": [
    "# Breadth-First-Search Algorithms"
   ]
  },
  {
   "cell_type": "markdown",
   "metadata": {},
   "source": [
    "### Binary Tree Level Order Traversal, Question 102\n",
    "Given the root of a binary tree, return the level order traversal \n",
    "of its nodes' values. (i.e., from left to right, level by level)."
   ]
  },
  {
   "cell_type": "code",
   "execution_count": null,
   "metadata": {},
   "outputs": [],
   "source": [
    "\"\"\"\n",
    "For these we need a queue to insert the nodes\n",
    "1. Initialize the queue with the root\n",
    "2. Remove the root and add it to a sub-list\n",
    "3. The same time we pop the 3, we need to add its children\n",
    "4. Pop from left to right into another sub list.\n",
    "\"\"\""
   ]
  },
  {
   "cell_type": "code",
   "execution_count": null,
   "metadata": {},
   "outputs": [],
   "source": [
    "def levelOrder(self, root):\n",
    "    # Create a list that holds the results\n",
    "    res = []\n",
    "    # Create a queue\n",
    "    q = collections.deque()\n",
    "    # Initialize the queue with the root\n",
    "    q.append(root)\n",
    "    # Now run the BFS. This occurs when the queue is non-empty\n",
    "    while q:\n",
    "        # Making sure that we are iterating one level at a time\n",
    "        length_q = len(q)\n",
    "        # Create a list for its own level\n",
    "        current_level = []\n",
    "        for i in range(lenght_q):\n",
    "            node = q.popleft()\n",
    "            if node:\n",
    "                current_level.append(node.val)\n",
    "                q.append(node.left)\n",
    "                q.append(node.right)\n",
    "        # We can have null nodes so definitely take that into consideration\n",
    "        if current_level:\n",
    "            res.append(current_level)\n",
    "    return res"
   ]
  }
 ],
 "metadata": {
  "kernelspec": {
   "display_name": "Python 3",
   "language": "python",
   "name": "python3"
  },
  "language_info": {
   "codemirror_mode": {
    "name": "ipython",
    "version": 3
   },
   "file_extension": ".py",
   "mimetype": "text/x-python",
   "name": "python",
   "nbconvert_exporter": "python",
   "pygments_lexer": "ipython3",
   "version": "3.8.5"
  }
 },
 "nbformat": 4,
 "nbformat_minor": 4
}
