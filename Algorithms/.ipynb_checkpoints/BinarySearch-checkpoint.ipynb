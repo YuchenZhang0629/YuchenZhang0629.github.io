{
 "cells": [
  {
   "cell_type": "markdown",
   "metadata": {},
   "source": [
    "# Binary Search"
   ]
  },
  {
   "cell_type": "markdown",
   "metadata": {},
   "source": [
    "### Question 33: Search in Rotated Sorted Array\n",
    "There is an integer array nums sorted in ascending order (with distinct values). Given the array nums after the possible rotation and an integer target, return the index of target if it is in nums, or -1 if it is not in nums."
   ]
  },
  {
   "cell_type": "code",
   "execution_count": 300,
   "metadata": {},
   "outputs": [],
   "source": [
    "def search(nums,target):\n",
    "    # Find the index of the split\n",
    "    left = 0\n",
    "    right = len(nums)-1\n",
    "    temp = []\n",
    "    if len(nums) == 0:\n",
    "        temp = nums\n",
    "        add = 0\n",
    "    # If the sequence is not flipped anywhere\n",
    "    elif nums[right] >= nums[left]:\n",
    "        temp = nums\n",
    "        add = 0\n",
    "    else:\n",
    "        while left < right:\n",
    "            mid = int((left+right)/2)\n",
    "            if nums[mid] > nums[left]:\n",
    "                left = mid\n",
    "            elif nums[mid] < nums[right]:\n",
    "                right = mid\n",
    "            if right-left == 1:\n",
    "                break\n",
    "\n",
    "        # Now do a binary search on the sub sequence\n",
    "        if target > nums[-1]:\n",
    "            temp = nums[:left+1]\n",
    "            add = 0\n",
    "        else:\n",
    "            temp = nums[right:]\n",
    "            add = right\n",
    "    \n",
    "    left = 0\n",
    "    right = len(temp)-1\n",
    "    if len(temp) == 1:\n",
    "        return int(temp[0] == target)*(int(temp[0] == target)+add)-1\n",
    "    if len(temp) == 2:\n",
    "        if left == right-1:\n",
    "            if temp[left] == target:\n",
    "                return left+add\n",
    "            elif temp[right] == target:\n",
    "                return right+add\n",
    "            else:\n",
    "                return -1   \n",
    "\n",
    "            \n",
    "    while left < right-1:\n",
    "        if left == right-1:\n",
    "            if temp[left] == target:\n",
    "                return left+add\n",
    "            elif temp[right] == target:\n",
    "                return right+add\n",
    "            else:\n",
    "                return -1\n",
    "        if temp[left] == target:\n",
    "            return left+add\n",
    "        if temp[right] == target:\n",
    "            return right+add\n",
    "        mid = int((left+right)/2)\n",
    "        if temp[mid] == target:\n",
    "            return mid+add\n",
    "        # Update left and right pointers\n",
    "        if temp[mid] > target:\n",
    "            right = mid\n",
    "        if temp[mid] < target:\n",
    "            left = mid\n",
    "    \n",
    "    return -1"
   ]
  },
  {
   "cell_type": "markdown",
   "metadata": {},
   "source": [
    "### Question 154: Find Minimum in Rotated Sorted Array II\n",
    "Suppose an array of length n sorted in ascending order is rotated between 1 and n times. Given the sorted rotated array nums that may contain duplicates, return the minimum element of this array."
   ]
  },
  {
   "cell_type": "code",
   "execution_count": 5,
   "metadata": {},
   "outputs": [],
   "source": [
    "def findMin(self, nums: List[int]) -> int:\n",
    "    # If the array was rotated n times\n",
    "    if nums[-1]>nums[0]:\n",
    "        return nums[0]\n",
    "    if len(nums) == 2:\n",
    "        return min(nums)\n",
    "    # If rotated not n times\n",
    "    l = 0\n",
    "    r = len(nums)-1\n",
    "    while l < r-1:\n",
    "        mid = (l+r)//2\n",
    "        if nums[mid] == nums[l] == nums[r]:\n",
    "            return min(self.findMin(nums[0:mid+1]),self.findMin(nums[mid:]))\n",
    "        else:\n",
    "            if nums[mid] <= nums[r]:\n",
    "                r = mid\n",
    "            elif nums[mid] >= nums[l]:\n",
    "                l = mid\n",
    "        if l == r-1:\n",
    "            break\n",
    "    return nums[r]"
   ]
  },
  {
   "cell_type": "markdown",
   "metadata": {},
   "source": [
    "### Question 315: Count of smaller numbers after self\n",
    "You are given an integer array nums and you have to return a new counts array. The counts array has the property where counts[i] is the number of smaller elements to the right of nums[i]."
   ]
  },
  {
   "cell_type": "code",
   "execution_count": null,
   "metadata": {},
   "outputs": [],
   "source": []
  }
 ],
 "metadata": {
  "kernelspec": {
   "display_name": "Python 3",
   "language": "python",
   "name": "python3"
  },
  "language_info": {
   "codemirror_mode": {
    "name": "ipython",
    "version": 3
   },
   "file_extension": ".py",
   "mimetype": "text/x-python",
   "name": "python",
   "nbconvert_exporter": "python",
   "pygments_lexer": "ipython3",
   "version": "3.8.5"
  }
 },
 "nbformat": 4,
 "nbformat_minor": 4
}
