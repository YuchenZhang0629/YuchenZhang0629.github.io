{
 "cells": [
  {
   "cell_type": "markdown",
   "metadata": {},
   "source": [
    "# Backtracking"
   ]
  },
  {
   "cell_type": "markdown",
   "metadata": {},
   "source": [
    "### Question 39: combination sum\n",
    "Given an array of distinct integers candidates and a target integer target, return a list of all unique combinations of candidates where the chosen numbers sum to target"
   ]
  },
  {
   "cell_type": "code",
   "execution_count": null,
   "metadata": {},
   "outputs": [],
   "source": [
    "\"\"\"\n",
    "What if instead of adding up, subtract from the final result？\n",
    "Stop condition：No matter how we subtract, stop at only the candidates remaining\n",
    "\"\"\"\n",
    "def combinationSum(candidates, target):\n",
    "    ans = []\n",
    "    if len(candidates) == 0:\n",
    "        return []\n",
    "    elif len(candidates) == 1:\n",
    "        if candidates[0] == target:\n",
    "            return [candidates]\n",
    "        else:\n",
    "            return []\n",
    "    else:\n",
    "        for i in range(len(candidates)):\n",
    "            ans.append(combinationSum(candidates[:i] + candidates[i+1:], target - candidates[i]))\n",
    "    return ans"
   ]
  },
  {
   "cell_type": "code",
   "execution_count": null,
   "metadata": {},
   "outputs": [],
   "source": [
    "def combinationSum(candidates, target):\n",
    "    ans = []\n",
    "    \n",
    "    def dfs(i, cur, total):\n",
    "        if total == target:\n",
    "            # Want to use cur for other purposes, so create a copy\n",
    "            ans.append(cur.copy())\n",
    "            return\n",
    "        elif i >= len(candidates) or total > target:\n",
    "            return\n",
    "        # First recursion: include the ith element\n",
    "        cur.append(candidates[i])\n",
    "        dfs(i, cur, total+candidates[i])\n",
    "        # Second recursion: not include the ith element\n",
    "        cur.pop()\n",
    "        dfs(i+1, cur, total)\n",
    "        \n",
    "    dfs(0,[],0)\n",
    "    return ans"
   ]
  },
  {
   "cell_type": "markdown",
   "metadata": {},
   "source": [
    "### Question 37: Sudoku Solver\n",
    "Write a program to solve a Sudoku puzzle by filling the empty cells.\n",
    "Each of the digits 1-9 must occur exactly once in each row.\n",
    "Each of the digits 1-9 must occur exactly once in each column.\n",
    "Each of the digits 1-9 must occur exactly once in each of the 9 3x3 sub-boxes of the grid.\n",
    "The '.' character indicates empty cells."
   ]
  },
  {
   "cell_type": "code",
   "execution_count": null,
   "metadata": {},
   "outputs": [],
   "source": [
    "\"\"\"\n",
    "First we need to define a function that picks an empty space\n",
    "Second, try each viable number\n",
    "Find one that works and repeat the process\n",
    "\"\"\"\n",
    "def modify_board(board):\n",
    "    for i in range(len(board)):\n",
    "        for j in range(len(board)):\n",
    "            if board[i][j] == \".\":\n",
    "                board[i][j] = \"0\"\n",
    "    return board\n",
    "\n",
    "def find_empty(board):\n",
    "    for i in range(len(board)):\n",
    "         for j in range(len(board[0])):\n",
    "                if board[i][j] == \"0\":\n",
    "                    return (i,j)\n",
    "    return None\n",
    "\n",
    "def valid(board, num, pos):\n",
    "    # check row\n",
    "    for i in range(len(board[0])):\n",
    "        if int(board[pos[0]][i]) == num and pos[1] != i:\n",
    "            return False\n",
    "    # check column\n",
    "    for i in range(len(board[0])):\n",
    "        if int(board[i][pos[1]]) == num and pos[0] != i:\n",
    "            return False\n",
    "    # check box\n",
    "    box_x = pos[1]//3\n",
    "    box_y = pos[0]//3\n",
    "    for i in range(3*box_y, 3*box_y+3):\n",
    "        for j in range(3*box_x, 3*box_x+3):\n",
    "            if int(board[i][j]) == num and (i,j)!=pos:\n",
    "                return False\n",
    "    return True\n",
    "\n",
    "def solve(board):\n",
    "    board = modify_board(board)\n",
    "    find = find_empty(board)\n",
    "    if not find:\n",
    "        return True\n",
    "    else:\n",
    "        row,col = find\n",
    "    # Attempt to put the values in\n",
    "    for i in range(1,10):\n",
    "        if valid(board, i, (row,col)):\n",
    "            board[row][col] = str(i)\n",
    "            # Recursively try to solve it until we are done or unable to proceed\n",
    "            if solve(board):\n",
    "                return True\n",
    "            # If not: reset the last attempt to 0\n",
    "            board[row][col] = str(0)\n",
    "    return False"
   ]
  },
  {
   "cell_type": "markdown",
   "metadata": {},
   "source": [
    "### Question 51: N-Queens Problem\n",
    "The n-queens puzzle is the problem of placing n queens on an n x n chessboard such that no two queens attack each other.\n",
    "\n",
    "Given an integer n, return all distinct solutions to the n-queens puzzle. You may return the answer in any order."
   ]
  },
  {
   "cell_type": "code",
   "execution_count": 9,
   "metadata": {},
   "outputs": [],
   "source": [
    "\"\"\"\n",
    "Basically optimized brute force\n",
    "Hash sets for columns, two diagonals (we iterate with rows so no set with that)\n",
    "For the positive (rightupper) diagonal: hash with sum of row and column indices\n",
    "For the negative (leftlower) diagonal: hash with the remainder of row and column indices\n",
    "\"\"\"\n",
    "def solveNQueens(n):\n",
    "    col = set()\n",
    "    pos = set()  # r+c\n",
    "    neg = set()  # r-c\n",
    "    res = []\n",
    "    board = [[\".\"]*n for i in range(n)]\n",
    "    # define a helper backtracking function\n",
    "    def backtrack(r):\n",
    "        if r == n:\n",
    "            # Make a copy of that because we need to backtrack\n",
    "            copy = [\"\".join(rows) for rows in board]\n",
    "            res.append(copy)\n",
    "            return\n",
    "        # See which column we can put the queen\n",
    "        for c in range(n):\n",
    "            if c in col or r+c in pos or r-c in neg:\n",
    "                continue\n",
    "            # If not: then this c is valid\n",
    "            col.add(c)\n",
    "            pos.add(r+c)\n",
    "            neg.add(r-c)\n",
    "            board[r][c] = \"Q\"\n",
    "            \n",
    "            # Then the current row is invalid, backtrack\n",
    "            backtrack(r+1)\n",
    "            \n",
    "            # Cleanup: undo the changes we just did\n",
    "            col.remove(c)\n",
    "            pos.remove(r+c)\n",
    "            neg.remove(r-c)\n",
    "            board[r][c] = \".\"\n",
    "    backtrack(0)\n",
    "    return res"
   ]
  },
  {
   "cell_type": "markdown",
   "metadata": {},
   "source": [
    "### Question 78: All Subsets\n",
    "Given an integer array nums of unique elements, return all possible subsets (the power set).\n",
    "\n",
    "The solution set must not contain duplicate subsets. Return the solution in any order."
   ]
  },
  {
   "cell_type": "code",
   "execution_count": null,
   "metadata": {},
   "outputs": [],
   "source": [
    "def subsets(nums):\n",
    "    res = []\n",
    "    subset = []\n",
    "    def dfs(i):\n",
    "        if i >= len(nums):\n",
    "            res.append(subset.copy())\n",
    "            return \n",
    "        # Decision to include\n",
    "        subset.append(nums[i])\n",
    "        dfs(i+1)\n",
    "        # Decision to not include\n",
    "        subset.pop()\n",
    "        dfs(i+1)\n",
    "    dfs(0)\n",
    "    return res"
   ]
  },
  {
   "cell_type": "markdown",
   "metadata": {},
   "source": [
    "### Question 691: stickers to spell word\n",
    "We are given n different types of stickers. Each sticker has a lowercase English word on it.\n",
    "\n",
    "You would like to spell out the given string target by cutting individual letters from your collection of stickers and rearranging them. You can use each sticker more than once if you want, and you have infinite quantities of each sticker.\n",
    "\n",
    "Return the minimum number of stickers that you need to spell out target. If the task is impossible, return -1."
   ]
  },
  {
   "cell_type": "code",
   "execution_count": null,
   "metadata": {},
   "outputs": [],
   "source": [
    "def minStickers(stickers,target):\n",
    "    "
   ]
  }
 ],
 "metadata": {
  "kernelspec": {
   "display_name": "Python 3",
   "language": "python",
   "name": "python3"
  },
  "language_info": {
   "codemirror_mode": {
    "name": "ipython",
    "version": 3
   },
   "file_extension": ".py",
   "mimetype": "text/x-python",
   "name": "python",
   "nbconvert_exporter": "python",
   "pygments_lexer": "ipython3",
   "version": "3.8.5"
  }
 },
 "nbformat": 4,
 "nbformat_minor": 4
}
