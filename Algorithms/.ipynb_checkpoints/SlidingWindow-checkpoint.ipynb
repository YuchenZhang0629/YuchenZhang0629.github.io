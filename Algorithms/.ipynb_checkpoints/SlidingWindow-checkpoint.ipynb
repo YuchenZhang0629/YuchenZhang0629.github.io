{
 "cells": [
  {
   "cell_type": "markdown",
   "metadata": {},
   "source": [
    "# Sliding Window"
   ]
  },
  {
   "cell_type": "markdown",
   "metadata": {},
   "source": [
    "### Question 76: Minimum Window Substring\n",
    "Given two strings s and t of lengths m and n respectively, return the minimum window substring of s such that every character in t (including duplicates) is included in the window. If there is no such substring, return the empty string \"\"."
   ]
  },
  {
   "cell_type": "code",
   "execution_count": 29,
   "metadata": {},
   "outputs": [],
   "source": [
    "\"\"\"\n",
    "Define two hash maps that tracks T's components and how many of those in the window\n",
    "\"\"\"\n",
    "def minWindow(s,t):\n",
    "    if t == \"\": return \"\"\n",
    "    countT, window = {}, {}\n",
    "    # Initialize the countT hash map\n",
    "    for c in t:\n",
    "        countT[c] = countT.get(c,0)+1\n",
    "    # Initialize how much we have and how much characters we need\n",
    "    have, need = 0, len(countT)\n",
    "    # Initialze the result with left and right index\n",
    "    res = [-1, -1]\n",
    "    # Initialize left pointer and minimum result length\n",
    "    left, Len = 0, float(\"infinity\")\n",
    "    for i in range(len(s)):\n",
    "        c = s[i]\n",
    "        window[c] = window.get(c,0)+1\n",
    "        # Consider those that correspond to some in t\n",
    "        if c in countT and window[c] == countT[c]:\n",
    "            have += 1\n",
    "        # Run a while loop when they are equal, update left pointer to until they aren't\n",
    "        while have == need:\n",
    "            if (i-left+1) < Len:\n",
    "                res = [left, i]\n",
    "                Len = i-left+1\n",
    "            # Remove from the left side\n",
    "            window[s[left]] -= 1\n",
    "            if s[left] in countT and window[s[left]] < countT[s[left]]:\n",
    "                have -= 1\n",
    "            left += 1\n",
    "    left, right = res\n",
    "    return s[left:right+1] if Len < float(\"infinity\") else \"\""
   ]
  },
  {
   "cell_type": "markdown",
   "metadata": {},
   "source": [
    "### Question 239: Sliding Window Maximum\n",
    "You are given an array of integers nums, there is a sliding window of size k which is moving from the very left of the array to the very right. You can only see the k numbers in the window. Each time the sliding window moves right by one position."
   ]
  },
  {
   "cell_type": "code",
   "execution_count": 32,
   "metadata": {},
   "outputs": [],
   "source": [
    "import collections\n",
    "def maxSlidingWindow(nums, k):\n",
    "    output = []\n",
    "    left = right = 0\n",
    "    q = collections.deque()\n",
    "    \n",
    "    while right < len(nums):\n",
    "        # Pop smaller values until the new input makes the smallest\n",
    "        while q and nums[q[-1]] < nums[right]:\n",
    "            q.pop()\n",
    "        q.append(right)\n",
    "        # Remove from left if it is out of bounds\n",
    "        if left > q[0]:\n",
    "            q.popleft()\n",
    "        # Make sure the window is at least size k\n",
    "        if (right+1) >= k:\n",
    "            output.append(nums[q[0]])\n",
    "            left += 1\n",
    "        right += 1\n",
    "    return output"
   ]
  }
 ],
 "metadata": {
  "kernelspec": {
   "display_name": "Python 3",
   "language": "python",
   "name": "python3"
  },
  "language_info": {
   "codemirror_mode": {
    "name": "ipython",
    "version": 3
   },
   "file_extension": ".py",
   "mimetype": "text/x-python",
   "name": "python",
   "nbconvert_exporter": "python",
   "pygments_lexer": "ipython3",
   "version": "3.8.5"
  }
 },
 "nbformat": 4,
 "nbformat_minor": 4
}
