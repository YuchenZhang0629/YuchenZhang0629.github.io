{
 "cells": [
  {
   "cell_type": "markdown",
   "metadata": {},
   "source": [
    "# Depth-First-Search Algorithms"
   ]
  },
  {
   "cell_type": "markdown",
   "metadata": {},
   "source": [
    "### Unique Binary Trees, Question 95"
   ]
  },
  {
   "cell_type": "code",
   "execution_count": null,
   "metadata": {},
   "outputs": [],
   "source": [
    "\"\"\"\n",
    "It's basically another recursive algorithm.\n",
    "1. We set the root node\n",
    "2. We split the remaining numbers to those smaller than the \n",
    "    root node and those larger than it\n",
    "3. Recurse on the left and right sub tree with numbers smaller\n",
    "    and larger than the node respectively\n",
    "4. Construct one unique tree for each of the comboss\n",
    "\"\"\""
   ]
  },
  {
   "cell_type": "code",
   "execution_count": null,
   "metadata": {},
   "outputs": [],
   "source": [
    "def generateTrees(n):\n",
    "    def dfs(nums):\n",
    "        if not nums:\n",
    "            return [None]\n",
    "            \n",
    "        ans = []\n",
    "        for i in range(len(nums)):\n",
    "            left_trees = dfs(nums[:i])\n",
    "            right_trees = dfs(nums[i+1:])\n",
    "                \n",
    "            for l in left_trees:\n",
    "                for r in right_trees:\n",
    "                    root = TreeNode(nums[i])\n",
    "                    root.left = l\n",
    "                    root.right = r\n",
    "                    ans.append(root)\n",
    "        return ans\n",
    "            \n",
    "    nums = list(range(1,n+1))\n",
    "    return dfs(nums)"
   ]
  },
  {
   "cell_type": "markdown",
   "metadata": {},
   "source": [
    "### Complete Binary Trees, Question 98"
   ]
  },
  {
   "cell_type": "code",
   "execution_count": null,
   "metadata": {},
   "outputs": [],
   "source": [
    "\"\"\"\n",
    "Determine if a tree is a complete binary tree\n",
    "1. The left subtree of a node contains only nodes with keys less than the node's key.\n",
    "2. The right subtree of a node contains only nodes with keys greater than the node's key.\n",
    "3. Both the left and right subtrees must also be binary search trees.\n",
    "\"\"\""
   ]
  },
  {
   "cell_type": "code",
   "execution_count": null,
   "metadata": {},
   "outputs": [],
   "source": [
    "def IsValidTree(self, root):\n",
    "    # Define a helper function that updates the boundary conditions and checks validity\n",
    "    def valid(node, left, right):\n",
    "        if not node:\n",
    "            return True\n",
    "        # Fails immediately when the node is not subject to the left and right constraint\n",
    "        if not (node.val < right and node.val > left):\n",
    "            return False\n",
    "        # Return True if both of them are True and False if otherwise\n",
    "        return(valid(node.left, left, node.val) and valid(node.right, node.val, right))\n",
    "    # Initialize the search tree with root and -inf and inf as boundary conditions\n",
    "    return valid(root, float(\"-inf\"), float(\"inf\"))"
   ]
  }
 ],
 "metadata": {
  "kernelspec": {
   "display_name": "Python 3",
   "language": "python",
   "name": "python3"
  },
  "language_info": {
   "codemirror_mode": {
    "name": "ipython",
    "version": 3
   },
   "file_extension": ".py",
   "mimetype": "text/x-python",
   "name": "python",
   "nbconvert_exporter": "python",
   "pygments_lexer": "ipython3",
   "version": "3.8.5"
  }
 },
 "nbformat": 4,
 "nbformat_minor": 4
}
