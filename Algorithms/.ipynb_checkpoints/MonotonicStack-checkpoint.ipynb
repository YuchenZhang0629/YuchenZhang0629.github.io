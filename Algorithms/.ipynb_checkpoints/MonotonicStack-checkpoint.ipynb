{
 "cells": [
  {
   "cell_type": "markdown",
   "metadata": {},
   "source": [
    "# Monotonic Stack"
   ]
  },
  {
   "cell_type": "markdown",
   "metadata": {},
   "source": [
    "### Question 42: Trapping water\n",
    "Given n non-negative integers representing an elevation map where the width of each bar is 1, compute how much water it can trap after raining."
   ]
  },
  {
   "cell_type": "code",
   "execution_count": 62,
   "metadata": {},
   "outputs": [],
   "source": [
    "\"\"\"\n",
    "Idea: The amount of water it could trap in one position is the min height\n",
    "of its left and its right minus its own height.\n",
    "Method 1: Three arrays documenting max left, max right, and min of those.\n",
    "Method 2: Two pointers. Starting from two ends, then update the one with\n",
    "    smaller max value then shift it towards middle.\n",
    "\"\"\"\n",
    "import numpy as np\n",
    "def trap(height):\n",
    "    min_vec = np.zeros(len(height)).astype(int)\n",
    "    left_pointer = 0\n",
    "    right_pointer = len(height)-1\n",
    "    left = height[0]\n",
    "    right = height[-1]\n",
    "    \n",
    "    while right_pointer > left_pointer:\n",
    "        if left <= right:\n",
    "            left_pointer += 1\n",
    "            min_vec[left_pointer] = min(left, right)\n",
    "            left = max(left, height[left_pointer])\n",
    "        else:\n",
    "            right_pointer -= 1\n",
    "            min_vec[right_pointer+1] = min(left, right)\n",
    "            right = max(right,height[right_pointer+1])\n",
    "    min_vec[0] = min_vec[-1] = 0\n",
    "\n",
    "    # return min_vec\n",
    "    return np.sum((min_vec - height > 0).astype(int)*(min_vec - height))\n",
    "\n",
    "## Note: Pay attention to the order which we update the pointer and left or right values ##"
   ]
  }
 ],
 "metadata": {
  "kernelspec": {
   "display_name": "Python 3",
   "language": "python",
   "name": "python3"
  },
  "language_info": {
   "codemirror_mode": {
    "name": "ipython",
    "version": 3
   },
   "file_extension": ".py",
   "mimetype": "text/x-python",
   "name": "python",
   "nbconvert_exporter": "python",
   "pygments_lexer": "ipython3",
   "version": "3.8.5"
  }
 },
 "nbformat": 4,
 "nbformat_minor": 4
}
