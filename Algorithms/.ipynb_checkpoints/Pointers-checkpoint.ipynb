{
 "cells": [
  {
   "cell_type": "markdown",
   "metadata": {},
   "source": [
    "# Pointers"
   ]
  },
  {
   "cell_type": "markdown",
   "metadata": {},
   "source": [
    "### Vizio Interview: sum of a string"
   ]
  },
  {
   "cell_type": "code",
   "execution_count": null,
   "metadata": {},
   "outputs": [],
   "source": [
    "def calc(Str):\n",
    "    # First let's get rid of the spaces\n",
    "    str_truncate = \"\"\n",
    "    for i in range(len(Str)):\n",
    "        if Str[i] != \" \":\n",
    "            str_truncate += Str[i]\n",
    "    str_truncate = str_truncate\n",
    "    # Keep track of the result\n",
    "    res = 0\n",
    "    # Use two pointers\n",
    "    start = 0\n",
    "    end = 0\n",
    "    # Proceed the operation as long as it does not reach the end\n",
    "    while end < len(str_truncate):\n",
    "        while str_truncate[end] != \"+\" and str_truncate[end] != \"-\":\n",
    "            end += 1\n",
    "            if end == len(str_truncate):\n",
    "                break\n",
    "            if str_truncate[end] == \"+\" or str_truncate[end] == \"-\":\n",
    "                break\n",
    "        if str_truncate[start-1] and str_truncate[start-1] == \"-\":\n",
    "            res -= int(str_truncate[start:end])\n",
    "        else:\n",
    "            res += int(str_truncate[start:end])\n",
    "        end = end+1\n",
    "        start = end\n",
    "    return res"
   ]
  }
 ],
 "metadata": {
  "kernelspec": {
   "display_name": "Python 3",
   "language": "python",
   "name": "python3"
  },
  "language_info": {
   "codemirror_mode": {
    "name": "ipython",
    "version": 3
   },
   "file_extension": ".py",
   "mimetype": "text/x-python",
   "name": "python",
   "nbconvert_exporter": "python",
   "pygments_lexer": "ipython3",
   "version": "3.8.5"
  }
 },
 "nbformat": 4,
 "nbformat_minor": 4
}
