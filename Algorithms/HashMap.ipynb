{
 "cells": [
  {
   "cell_type": "markdown",
   "metadata": {},
   "source": [
    "# Hash Maps"
   ]
  },
  {
   "cell_type": "markdown",
   "metadata": {},
   "source": [
    "### Question 41: Smallest Missing Positive\n",
    "Given an unsorted integer array nums, return the smallest missing positive integer.\n",
    "You must implement an algorithm that runs in O(n) time and uses constant extra space."
   ]
  },
  {
   "cell_type": "code",
   "execution_count": 113,
   "metadata": {},
   "outputs": [],
   "source": [
    "\"\"\"\n",
    "Idea: use input array as hash set\n",
    "Use [1,2,...,len(A)] to map to the 0th...(n-1)th element of input array A\n",
    "Goal: use constant time to tell if a value exist in input array?\n",
    "    -> solutiion: give an index value i = value - 1\n",
    "    -> The corresponding index value of the input array. If negative: then the value exists.\n",
    "Replace all negatives with 0\n",
    "    -> Start from the beginning: assume value = val. Go to the (abs(val)-1)th index of input array\n",
    "    -> If it is not already negative: change to negative.\n",
    "       (example: after all the negatives are changed to 0, a negative at (i-1)th pos means that i exists in input)\n",
    "If we go out of bounds: neglect.\n",
    "If already negative: do not change.\n",
    "Finally: iterate i througn 1 to len(A). If the corresponding (i-1)th term in above is not negative: then\n",
    "    this does not exist, and is the smallest missing positive.\n",
    "\"\"\"\n",
    "import numpy as np\n",
    "def firstMissingPositive(nums):\n",
    "    nums = (nums > np.zeros(len(nums))).astype(int)*nums\n",
    "    for i in range(len(nums)):\n",
    "        val = abs(nums[i])\n",
    "        if 1 <= val <= len(nums):\n",
    "            if nums[val-1] > 0:\n",
    "                nums[val-1] *= -1\n",
    "            elif nums[val-1] == 0:\n",
    "                nums[val-1] = -len(nums)-1\n",
    "        \n",
    "    for j in range(1, len(nums)+1):\n",
    "        if nums[j-1] >= 0:\n",
    "            return j\n",
    "    return len(nums)+1"
   ]
  },
  {
   "cell_type": "markdown",
   "metadata": {},
   "source": [
    "### Question 1296: Path Crossing\n",
    "Given a string path, where path[i] = 'N', 'S', 'E' or 'W', each representing moving one unit north, south, east, or west, respectively. You start at the origin (0, 0) on a 2D plane and walk on the path specified by path.\n",
    "\n",
    "Return true if the path crosses itself at any point, that is, if at any time you are on a location you have previously visited. Return false otherwise."
   ]
  },
  {
   "cell_type": "code",
   "execution_count": 15,
   "metadata": {},
   "outputs": [],
   "source": [
    "def isPathCrossing(path):\n",
    "    # Initialize the starting point\n",
    "    x = 0\n",
    "    y = 0\n",
    "    pos = set([str(x)+\",\"+str(y)])\n",
    "    for i in range(len(path)):\n",
    "        if path[i] == \"N\":\n",
    "            y += 1\n",
    "        elif path[i] == \"S\":\n",
    "            y -= 1\n",
    "        elif path[i] == \"E\":\n",
    "            x += 1\n",
    "        else:\n",
    "            x -= 1\n",
    "        position = str(x)+\",\"+str(y)\n",
    "        if position in pos:\n",
    "            return True\n",
    "        pos.add(position)\n",
    "    return False"
   ]
  },
  {
   "cell_type": "markdown",
   "metadata": {},
   "source": [
    "### Question 30: Substring with Concatenation of All Words\n",
    "You are given a string s and an array of strings words of the same length. Return all starting indices of substring(s) in s that is a concatenation of each word in words exactly once, in any order, and without any intervening characters."
   ]
  },
  {
   "cell_type": "code",
   "execution_count": 103,
   "metadata": {},
   "outputs": [],
   "source": [
    "\"\"\"\n",
    "We use a hash map to keep track of the occurrence of the words\n",
    "Two pointers: \n",
    "i denote the start of the string from which we observe\n",
    "j denote the start of unit we try to see if it matches the words\n",
    "\"\"\"\n",
    "def findSubstring(s, words):\n",
    "    ans = []\n",
    "    if len(words)*len(words[0])>len(s):\n",
    "        return ans\n",
    "    Dict = dict()\n",
    "    for i in words:\n",
    "        if i not in Dict:\n",
    "            Dict[i] = 1\n",
    "        else:\n",
    "            Dict[i] += 1\n",
    "    D = Dict.copy()\n",
    "    i,j = 0,0\n",
    "    L = len(words[0])\n",
    "    while i <= len(s)-len(words)*L+1:\n",
    "        d = D.copy()\n",
    "        # If the first three not in the dictionary: proceed\n",
    "        if s[i:i+L] not in Dict:\n",
    "            i+=1\n",
    "            j+=1\n",
    "        else:\n",
    "            while s[j:j+L] in Dict and Dict[s[j:j+L]] == 1:\n",
    "                Dict[s[j:j+L]] -= 1\n",
    "                if sum(Dict.values()) == 0:\n",
    "                    ans.append(i)\n",
    "                    break\n",
    "                j += L\n",
    "                if s[j:j+L] not in Dict or Dict[s[j:j+L]] == -1:\n",
    "                    break\n",
    "                if j+L > len(s)+1:\n",
    "                    break\n",
    "            Dict = d\n",
    "            i+=1\n",
    "            j=i\n",
    "    return ans"
   ]
  }
 ],
 "metadata": {
  "kernelspec": {
   "display_name": "Python 3",
   "language": "python",
   "name": "python3"
  },
  "language_info": {
   "codemirror_mode": {
    "name": "ipython",
    "version": 3
   },
   "file_extension": ".py",
   "mimetype": "text/x-python",
   "name": "python",
   "nbconvert_exporter": "python",
   "pygments_lexer": "ipython3",
   "version": "3.8.5"
  }
 },
 "nbformat": 4,
 "nbformat_minor": 4
}
