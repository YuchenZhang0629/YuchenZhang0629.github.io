{
 "cells": [
  {
   "cell_type": "markdown",
   "metadata": {},
   "source": [
    "# String Manipulations"
   ]
  },
  {
   "cell_type": "markdown",
   "metadata": {},
   "source": [
    "### Question 12: Integer to Roman"
   ]
  },
  {
   "cell_type": "code",
   "execution_count": 17,
   "metadata": {},
   "outputs": [],
   "source": [
    "def intToRoman(num):\n",
    "    # Reasons for list instead of hash map: need to do in descending order\n",
    "    symlist = [[\"I\",1],[\"IV\",4],[\"V\",5],[\"IX\",9],[\"X\",10],[\"XL\",40],[\"L\",50],[\"XC\",90],[\"C\",100],[\"CD\",400],\n",
    "              [\"D\",500],[\"CM\",900],[\"M\",1000]]\n",
    "    res = \"\"\n",
    "    for sym, val in reversed(symlist):\n",
    "        if num // val != 0:\n",
    "            count = num // val\n",
    "            res = res + count*sym\n",
    "            num = num - count * val\n",
    "    return res"
   ]
  },
  {
   "cell_type": "markdown",
   "metadata": {},
   "source": [
    "### Question 65: Valid Number\n",
    "A valid number can be split up into these components (in order):\n",
    "\n",
    "A decimal number or an integer.\n",
    "(Optional) An 'e' or 'E', followed by an integer."
   ]
  },
  {
   "cell_type": "code",
   "execution_count": null,
   "metadata": {},
   "outputs": [],
   "source": [
    "def isNumber(self, s: str) -> bool:\n",
    "    digitseen = False\n",
    "    eseen = False\n",
    "    dotseen = False\n",
    "    countplusminus = 0\n",
    "    digitset = {\"1\",\"2\",\"3\",\"4\",\"5\",\"6\",\"7\",\"8\",\"9\",\"0\"}\n",
    "    for i in range(len(s)):\n",
    "        char = s[i]\n",
    "        if char in digitset:\n",
    "            digitseen = True\n",
    "        # char could be digit, plus or minus, dot, or e\n",
    "        elif char == \"+\" or char == \"-\":\n",
    "            if countplusminus == 2:\n",
    "                return False\n",
    "            if i>0 and (s[i-1] != \"e\" and s[i-1] != \"E\"):\n",
    "                return False\n",
    "            if i == len(s)-1:\n",
    "                return False\n",
    "            countplusminus += 1\n",
    "        elif char == \".\":\n",
    "            if eseen or dotseen:\n",
    "                return False\n",
    "            if i == len(s)-1 and not digitseen:\n",
    "                return False\n",
    "            dotseen = True\n",
    "        elif char == \"e\" or char == \"E\":\n",
    "            if eseen or not digitseen or i == len(s)-1:\n",
    "                return False\n",
    "            eseen = True\n",
    "        else:\n",
    "            return False\n",
    "    return True"
   ]
  }
 ],
 "metadata": {
  "kernelspec": {
   "display_name": "Python 3",
   "language": "python",
   "name": "python3"
  },
  "language_info": {
   "codemirror_mode": {
    "name": "ipython",
    "version": 3
   },
   "file_extension": ".py",
   "mimetype": "text/x-python",
   "name": "python",
   "nbconvert_exporter": "python",
   "pygments_lexer": "ipython3",
   "version": "3.8.5"
  }
 },
 "nbformat": 4,
 "nbformat_minor": 4
}
