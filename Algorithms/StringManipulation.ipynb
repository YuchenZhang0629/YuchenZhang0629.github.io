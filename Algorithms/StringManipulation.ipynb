{
 "cells": [
  {
   "cell_type": "markdown",
   "metadata": {},
   "source": [
    "# String Manipulations"
   ]
  },
  {
   "cell_type": "markdown",
   "metadata": {},
   "source": [
    "### Question 12: Integer to Roman"
   ]
  },
  {
   "cell_type": "code",
   "execution_count": 17,
   "metadata": {},
   "outputs": [],
   "source": [
    "def intToRoman(num):\n",
    "    # Reasons for list instead of hash map: need to do in descending order\n",
    "    symlist = [[\"I\",1],[\"IV\",4],[\"V\",5],[\"IX\",9],[\"X\",10],[\"XL\",40],[\"L\",50],[\"XC\",90],[\"C\",100],[\"CD\",400],\n",
    "              [\"D\",500],[\"CM\",900],[\"M\",1000]]\n",
    "    res = \"\"\n",
    "    for sym, val in reversed(symlist):\n",
    "        if num // val != 0:\n",
    "            count = num // val\n",
    "            res = res + count*sym\n",
    "            num = num - count * val\n",
    "    return res"
   ]
  },
  {
   "cell_type": "markdown",
   "metadata": {},
   "source": [
    "### Question 65: Valid Number\n",
    "A valid number can be split up into these components (in order):\n",
    "\n",
    "A decimal number or an integer.\n",
    "(Optional) An 'e' or 'E', followed by an integer."
   ]
  },
  {
   "cell_type": "code",
   "execution_count": null,
   "metadata": {},
   "outputs": [],
   "source": [
    "def isNumber(self, s: str) -> bool:\n",
    "    digitseen = False\n",
    "    eseen = False\n",
    "    dotseen = False\n",
    "    countplusminus = 0\n",
    "    digitset = {\"1\",\"2\",\"3\",\"4\",\"5\",\"6\",\"7\",\"8\",\"9\",\"0\"}\n",
    "    for i in range(len(s)):\n",
    "        char = s[i]\n",
    "        if char in digitset:\n",
    "            digitseen = True\n",
    "        # char could be digit, plus or minus, dot, or e\n",
    "        elif char == \"+\" or char == \"-\":\n",
    "            if countplusminus == 2:\n",
    "                return False\n",
    "            if i>0 and (s[i-1] != \"e\" and s[i-1] != \"E\"):\n",
    "                return False\n",
    "            if i == len(s)-1:\n",
    "                return False\n",
    "            countplusminus += 1\n",
    "        elif char == \".\":\n",
    "            if eseen or dotseen:\n",
    "                return False\n",
    "            if i == len(s)-1 and not digitseen:\n",
    "                return False\n",
    "            dotseen = True\n",
    "        elif char == \"e\" or char == \"E\":\n",
    "            if eseen or not digitseen or i == len(s)-1:\n",
    "                return False\n",
    "            eseen = True\n",
    "        else:\n",
    "            return False\n",
    "    return True"
   ]
  },
  {
   "cell_type": "markdown",
   "metadata": {},
   "source": [
    "### Question 67: Binary Addition¶\n",
    "Given two binary strings a and b, return their sum as a binary string."
   ]
  },
  {
   "cell_type": "code",
   "execution_count": null,
   "metadata": {},
   "outputs": [],
   "source": [
    "def addBinary(a, b):\n",
    "    res = \"\"\n",
    "    carry = 0\n",
    "    a = a[::-1]\n",
    "    b = b[::-1]\n",
    "    for i in range(max(len(a), len(b))):\n",
    "        digitA = ord(a[i])-ord(\"0\") if i < len(a) else 0\n",
    "        digitB = ord(b[i])-ord(\"0\") if i < len(b) else 0\n",
    "        total = digitA+digitB+carry\n",
    "        char = str(total%2)\n",
    "        res = char+res\n",
    "        carry = total//2\n",
    "    if carry == 1:\n",
    "        res = \"1\"+res\n",
    "    return res"
   ]
  },
  {
   "cell_type": "markdown",
   "metadata": {},
   "source": [
    "### Question 10: Regular Expression Matching\n",
    "Given an input string s and a pattern p, implement regular expression matching with support for '.' and '*' where:\n",
    "\n",
    "'.' Matches any single character.\n",
    "'*' Matches zero or more of the preceding element.\n",
    "The matching should cover the entire input string (not partial)"
   ]
  },
  {
   "cell_type": "code",
   "execution_count": null,
   "metadata": {},
   "outputs": [],
   "source": [
    "def isMatch(s,p):\n",
    "    cache = {}\n",
    "    # First define a helper function to track the pointers in s and p\n",
    "    def dfs(i,j):\n",
    "        # Check whether they are already in cache\n",
    "        if (i,j) in cache:\n",
    "            return cache[(i,j)]\n",
    "        # If both out of bounds: means we're done with both of them\n",
    "        if i>=len(s) and j>=len(p):\n",
    "            return True\n",
    "        if j>=len(p):\n",
    "            return False\n",
    "        \n",
    "        match = i<len(s) and (s[i]==p[j] or p[j]==\".\")\n",
    "        if (j+1)<len(p) and p[j+1]==\"*\":\n",
    "            # Either not use the star or use the star if there s a match\n",
    "            cache[(i,j)] = dfs(i,j+2) or (match and dfs(i+1,j))\n",
    "            return cache[(i,j)]\n",
    "        if match:\n",
    "            cache[(i,j)] = dfs(i+1,j+1)\n",
    "            return cache[(i,j)]\n",
    "        cache[(i,j)] = False\n",
    "        return False\n",
    "    return dfs(0,0)"
   ]
  },
  {
   "cell_type": "markdown",
   "metadata": {},
   "source": [
    "### Question 1392: Longest Happy Prefix\n",
    "A string is called a happy prefix if is a non-empty prefix which is also a suffix (excluding itself).\n",
    "\n",
    "Given a string s, return the longest happy prefix of s. Return an empty string \"\" if no such prefix exists."
   ]
  },
  {
   "cell_type": "code",
   "execution_count": null,
   "metadata": {},
   "outputs": [],
   "source": [
    "def longestPrefix(s):\n",
    "    n = len(s)\n",
    "    lps = [0]*n\n",
    "    # Initialize the left and right pointers\n",
    "    left = 0\n",
    "\n",
    "    for right in range(1,n):\n",
    "        \"\"\"\n",
    "        In case we encounter a mismatch:\n",
    "        we backtrack until there is a match or until the very start\n",
    "        \"\"\"\n",
    "        while s[left] != s[right] and left > 0:\n",
    "            left = lps[left-1]\n",
    "        \"\"\"\n",
    "        If there is a match: increment both pointers by 1\n",
    "        \"\"\"\n",
    "        if s[left] == s[right]:\n",
    "            lps[right] = left+1\n",
    "            left += 1\n",
    "\n",
    "    return s[:lps[-1]]"
   ]
  },
  {
   "cell_type": "markdown",
   "metadata": {},
   "source": [
    "### Question : Get Nearest Palindrome"
   ]
  },
  {
   "cell_type": "code",
   "execution_count": 26,
   "metadata": {},
   "outputs": [],
   "source": [
    "import numpy as np\n",
    "def nearestPalindromic(n):\n",
    "    def generate(s):\n",
    "        results = [i for i in s]\n",
    "        for i in range(len(s)//2):\n",
    "            results[len(s)-i-1] = s[i]\n",
    "        return int(''.join(results))\n",
    "    def loop(mid):\n",
    "        results = []\n",
    "        for i in range(-10,11):\n",
    "            if int(n[:mid]) + i > 0:\n",
    "                results.append(generate(str(int(n[:mid])+i) + n[mid:]))\n",
    "        return results\n",
    "    \n",
    "    mid = len(n)//2 + 1\n",
    "    index = 0\n",
    "    res = loop(mid)\n",
    "    res.sort(reverse = True)\n",
    "    minDiff = np.inf\n",
    "    for i in range(len(res)):\n",
    "        if res[i] != int(n) and abs(res[i] - int(n)) <= minDiff:\n",
    "            index = i\n",
    "            minDiff = abs(res[i] - int(n))\n",
    "    return str(res[index])"
   ]
  }
 ],
 "metadata": {
  "kernelspec": {
   "display_name": "Python 3",
   "language": "python",
   "name": "python3"
  },
  "language_info": {
   "codemirror_mode": {
    "name": "ipython",
    "version": 3
   },
   "file_extension": ".py",
   "mimetype": "text/x-python",
   "name": "python",
   "nbconvert_exporter": "python",
   "pygments_lexer": "ipython3",
   "version": "3.8.5"
  }
 },
 "nbformat": 4,
 "nbformat_minor": 4
}
