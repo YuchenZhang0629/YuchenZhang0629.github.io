{
 "cells": [
  {
   "cell_type": "markdown",
   "metadata": {},
   "source": [
    "### Question 407: Trapping Rain Water II\n",
    "Given an m x n integer matrix heightMap representing the height of each unit cell in a 2D elevation map, return the volume of water it can trap after raining."
   ]
  },
  {
   "cell_type": "code",
   "execution_count": null,
   "metadata": {},
   "outputs": [],
   "source": [
    "import heapq\n",
    "class Solution:\n",
    "    def trapRainWater(heightMap):\n",
    "        if len(heightMap) < 3:\n",
    "            return 0\n",
    "        m = len(heightMap)\n",
    "        n = len(heightMap[0])\n",
    "        \n",
    "        heap = []\n",
    "        heapq.heapify(heap)\n",
    "        visited = {}\n",
    "        \n",
    "        for row in range(m):\n",
    "            for col in range(n):\n",
    "                if row == 0 or row == m-1 or col == 0 or col == n-1:\n",
    "                    heapq.heappush(heap, (heightMap[row][col],row,col))\n",
    "                    visited[(row,col)] = True\n",
    "        \n",
    "        def neighbor(row,col):\n",
    "            res = []\n",
    "            if row-1 > 0:\n",
    "                res.append((row-1,col))\n",
    "            if col-1 > 0:\n",
    "                res.append((row,col-1))\n",
    "            if row+1 < m:\n",
    "                res.append((row+1,col))\n",
    "            if col+1 < n:\n",
    "                res.append((row,col+1))\n",
    "            return res\n",
    "        \n",
    "        while heap:\n",
    "            height,row,col = heapq.heappop(heap)\n",
    "            for x, y in getnbr(row,col):\n",
    "                if (x,y) not in visited:  \n",
    "                    res += max(0, height-heightMap[x][y])\n",
    "                    heapq.heappush(heap, (max(height, heightMap[x][y]),x,y))\n",
    "                    visited[(dx,dy)] = True\n",
    "        return res"
   ]
  },
  {
   "cell_type": "markdown",
   "metadata": {},
   "source": [
    "### Question 1354: Construct Target Array With Multiple Sums\n",
    "You are given an array target of n integers. From a starting array arr consisting of n 1's, you may perform the following procedure :\n",
    "\n",
    "let x be the sum of all elements currently in your array.\n",
    "choose index i, such that 0 <= i < n and set the value of arr at index i to x.\n",
    "You may repeat this procedure as many times as needed.\n",
    "Return true if it is possible to construct the target array from arr, otherwise, return false."
   ]
  },
  {
   "cell_type": "code",
   "execution_count": 39,
   "metadata": {},
   "outputs": [],
   "source": [
    "import heapq\n",
    "def isPossible(target):\n",
    "    # When all of them are ones\n",
    "    if len(target) == sum(target):\n",
    "        return True\n",
    "    if len(target) == 1:\n",
    "        return False\n",
    "    total = sum(target)\n",
    "    heap = [-n for n in target]\n",
    "    heapq.heapify(heap)\n",
    "    while total != len(target):\n",
    "        cur_max = -1*heapq.heappop(heap)\n",
    "        rest = total - cur_max\n",
    "        new_num = cur_max - rest\n",
    "        if new_num <= 0:\n",
    "            return False\n",
    "        if new_num > rest:\n",
    "            new_num = new_num % rest + rest\n",
    "        heapq.heappush(heap,-1*new_num)\n",
    "        total = new_num + rest\n",
    "    return True"
   ]
  }
 ],
 "metadata": {
  "kernelspec": {
   "display_name": "Python 3",
   "language": "python",
   "name": "python3"
  },
  "language_info": {
   "codemirror_mode": {
    "name": "ipython",
    "version": 3
   },
   "file_extension": ".py",
   "mimetype": "text/x-python",
   "name": "python",
   "nbconvert_exporter": "python",
   "pygments_lexer": "ipython3",
   "version": "3.8.5"
  }
 },
 "nbformat": 4,
 "nbformat_minor": 4
}
