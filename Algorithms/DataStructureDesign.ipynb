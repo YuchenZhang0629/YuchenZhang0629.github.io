{
 "cells": [
  {
   "cell_type": "markdown",
   "metadata": {},
   "source": [
    "# Designing Data Structures"
   ]
  },
  {
   "cell_type": "markdown",
   "metadata": {},
   "source": [
    "### Leetcode 2241: Designing an ATM Machine\n",
    "There is an ATM machine that stores banknotes of 5 denominations: 20, 50, 100, 200, and 500 dollars. Initially the ATM is empty. The user can use the machine to deposit or withdraw any amount of money.\n",
    "\n",
    "When withdrawing, the machine prioritizes using banknotes of larger values.\n",
    "\n",
    "ATM() Initializes the ATM object.\n",
    "\n",
    "void deposit(int[] banknotesCount) Deposits new banknotes in the order $20, $50, $100, $200, and $500.\n",
    "\n",
    "int[] withdraw(int amount) Returns an array of length 5 of the number of banknotes that will be handed to the user in the order $20, $50, $100, $200, and $500, and update the number of banknotes in the ATM after withdrawing. Returns [-1] if it is not possible (do not withdraw any banknotes in this case)."
   ]
  },
  {
   "cell_type": "code",
   "execution_count": 77,
   "metadata": {},
   "outputs": [],
   "source": [
    "class ATM:\n",
    "\n",
    "    def __init__(self):\n",
    "        self.bank = {20:0,50:0,100:0,200:0,500:0}\n",
    "        self.banknotes = [20,50,100,200,500]\n",
    "\n",
    "    def deposit(self, banknotesCount: List[int]) -> None:\n",
    "        for i in range(5):\n",
    "            self.bank[self.banknotes[i]]+=banknotesCount[i]\n",
    "\n",
    "    def withdraw(self, amount: int) -> List[int]:\n",
    "        res = []\n",
    "        for i in list(reversed(self.banknotes)):\n",
    "            amount_prime = int(max(amount-i*self.bank[i],amount%i))\n",
    "            if amount-i*self.bank[i] >= amount%i:\n",
    "                res.append(int(self.bank[i]))\n",
    "                self.bank[i] = 0\n",
    "                amount = amount_prime\n",
    "            else:\n",
    "                res.append(int((amount - amount%i)/i))\n",
    "                self.bank[i] -= int((amount - amount%i)/i)\n",
    "                amount = amount_prime\n",
    "        if amount == 0:\n",
    "            return list(reversed(res))\n",
    "        else:\n",
    "            for i in range(5):\n",
    "                self.bank[self.banknotes[i]]+=list(reversed(res))[i]\n",
    "            return [-1]"
   ]
  }
 ],
 "metadata": {
  "kernelspec": {
   "display_name": "Python 3",
   "language": "python",
   "name": "python3"
  },
  "language_info": {
   "codemirror_mode": {
    "name": "ipython",
    "version": 3
   },
   "file_extension": ".py",
   "mimetype": "text/x-python",
   "name": "python",
   "nbconvert_exporter": "python",
   "pygments_lexer": "ipython3",
   "version": "3.8.5"
  }
 },
 "nbformat": 4,
 "nbformat_minor": 4
}
