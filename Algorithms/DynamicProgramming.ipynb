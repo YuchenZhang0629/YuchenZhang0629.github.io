{
 "cells": [
  {
   "cell_type": "markdown",
   "metadata": {},
   "source": [
    "# Dynamic Programming"
   ]
  },
  {
   "cell_type": "markdown",
   "metadata": {},
   "source": [
    "### Question 32: Longest Valid Parenthesis\n",
    "Given a string containing just the characters '(' and ')', find the length of the longest valid (well-formed) parentheses substring"
   ]
  },
  {
   "cell_type": "code",
   "execution_count": null,
   "metadata": {},
   "outputs": [],
   "source": [
    "\"\"\"\n",
    "Scan from left to right, if right > left: set count = 0\n",
    "Scan from right to left, if left > right: set count = 0\n",
    "\"\"\"\n",
    "def longestValidParentheses(s):\n",
    "    if len(s) == 0:\n",
    "        return 0\n",
    "    # Left traverse\n",
    "    left_count = [0]*len(s)\n",
    "    left_left = 0\n",
    "    left_right = 0\n",
    "    for i in range(len(s)):\n",
    "        if s[i] == \"(\":\n",
    "            left_left += 1\n",
    "        elif s[i] == \")\":\n",
    "            left_right += 1\n",
    "        if left_left == left_right:\n",
    "            left_count[i] = left_count[i-2*left_left] + 2*left_left\n",
    "            left_left = left_right = 0\n",
    "        if left_right > left_left:\n",
    "            left_left = left_right = 0\n",
    "            left_count[i] = 0\n",
    "    # Right traverse\n",
    "    right_count = [0]*len(s)\n",
    "    right_left = 0\n",
    "    right_right = 0\n",
    "    for i in range(len(s)):\n",
    "        if s[-(i+1)] == \"(\":\n",
    "            right_left += 1\n",
    "        elif s[-(i+1)] == \")\":\n",
    "            right_right += 1\n",
    "        if right_left == right_right:\n",
    "            right_count[-(i+1)] = right_count[-(i+1)+2*right_left] + 2*right_left\n",
    "            right_left = right_right = 0\n",
    "        if right_left > right_right:\n",
    "            right_left = right_right = 0\n",
    "            right_count[-(i+1)] = 0\n",
    "    return max(max(right_count), max(left_count))"
   ]
  },
  {
   "cell_type": "markdown",
   "metadata": {},
   "source": [
    "### Question 44: Wildcard Matching\n",
    "Given an input string (s) and a pattern (p), implement wildcard pattern matching with support for '?' and '*' where:\n",
    "'?' Matches any single character.\n",
    "'*' Matches any sequence of characters (including the empty sequence).\n",
    "The matching should cover the entire input string (not partial)"
   ]
  },
  {
   "cell_type": "code",
   "execution_count": 62,
   "metadata": {},
   "outputs": [],
   "source": [
    "\"\"\"\n",
    "First we create an m*n matrix\n",
    "    -> If s[i] == p[j]: then corresponding boolean equals [i-1][j-1]th index\n",
    "    -> If p[j] == \"?\", then corresponding is true if [i-1][j-1] is true\n",
    "    -> If p[j] == \"*\", then if either [i-1][j] or [i][j-1] is true: corresponding is true\n",
    "\n",
    "Only at the very beginning of the string p do we have to consider cases which we\n",
    "change the first line of the matrix. Otherwise if s[i] == p[j], M[i+1][j+1] = M[i][j]\n",
    "Consider:\n",
    "  a * a d\n",
    "a\n",
    "b\n",
    "c\n",
    "d\n",
    "Then the previous attempt \"if p[j-1] == \"*\": M[i+1][j+1] = M[i+1][j] or M[i][j]\" would be invalid\n",
    "\"\"\"\n",
    "import numpy as np\n",
    "def isMatch(s, p):\n",
    "    # Initialize the matrix. The first row, first column are zeros besides the topleft index\n",
    "    M = np.zeros((len(s)+1,len(p)+1)).astype(int)\n",
    "    M[0][0] = 1\n",
    "    for i in range(len(p)):\n",
    "        if p[i] == \"*\":\n",
    "            M[0][i+1] = M[0][i]\n",
    "    for i in range(len(s)):\n",
    "        for j in range(len(p)):\n",
    "            if s[i] == p[j]:\n",
    "                #if p[j-1] == \"*\":\n",
    "                 #   M[i+1][j+1] = M[i+1][j] or M[i][j]\n",
    "                #else:\n",
    "                M[i+1][j+1] = M[i][j]\n",
    "            elif p[j] == \"?\":\n",
    "                M[i+1][j+1] = M[i][j]\n",
    "            elif p[j] == \"*\":\n",
    "                M[i+1][j+1] = M[i][j+1] or M[i+1][j] or M[i][j]\n",
    "            else:\n",
    "                M[i+1][j+1] = 0\n",
    "    return bool(M[-1][-1])"
   ]
  }
 ],
 "metadata": {
  "kernelspec": {
   "display_name": "Python 3",
   "language": "python",
   "name": "python3"
  },
  "language_info": {
   "codemirror_mode": {
    "name": "ipython",
    "version": 3
   },
   "file_extension": ".py",
   "mimetype": "text/x-python",
   "name": "python",
   "nbconvert_exporter": "python",
   "pygments_lexer": "ipython3",
   "version": "3.8.5"
  }
 },
 "nbformat": 4,
 "nbformat_minor": 4
}
