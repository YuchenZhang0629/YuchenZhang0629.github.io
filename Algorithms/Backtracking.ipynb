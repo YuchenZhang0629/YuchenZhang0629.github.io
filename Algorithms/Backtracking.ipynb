{
 "cells": [
  {
   "cell_type": "markdown",
   "metadata": {},
   "source": [
    "# Backtracking"
   ]
  },
  {
   "cell_type": "markdown",
   "metadata": {},
   "source": [
    "### Question 39: combination sum\n",
    "Given an array of distinct integers candidates and a target integer target, return a list of all unique combinations of candidates where the chosen numbers sum to target"
   ]
  },
  {
   "cell_type": "code",
   "execution_count": null,
   "metadata": {},
   "outputs": [],
   "source": [
    "\"\"\"\n",
    "What if instead of adding up, subtract from the final result？\n",
    "Stop condition：No matter how we subtract, stop at only the candidates remaining\n",
    "\"\"\"\n",
    "def combinationSum(candidates, target):\n",
    "    ans = []\n",
    "    if len(candidates) == 0:\n",
    "        return []\n",
    "    elif len(candidates) == 1:\n",
    "        if candidates[0] == target:\n",
    "            return [candidates]\n",
    "        else:\n",
    "            return []\n",
    "    else:\n",
    "        for i in range(len(candidates)):\n",
    "            ans.append(combinationSum(candidates[:i] + candidates[i+1:], target - candidates[i]))\n",
    "    return ans"
   ]
  },
  {
   "cell_type": "code",
   "execution_count": null,
   "metadata": {},
   "outputs": [],
   "source": [
    "def combinationSum(candidates, target):\n",
    "    ans = []\n",
    "    \n",
    "    def dfs(i, cur, total):\n",
    "        if total == target:\n",
    "            # Want to use cur for other purposes, so create a copy\n",
    "            ans.append(cur.copy())\n",
    "            return\n",
    "        elif i >= len(candidates) or total > target:\n",
    "            return\n",
    "        # First recursion: include the ith element\n",
    "        cur.append(candidates[i])\n",
    "        dfs(i, cur, total+candidates[i])\n",
    "        # Second recursion: not include the ith element\n",
    "        cur.pop()\n",
    "        dfs(i+1, cur, total)\n",
    "        \n",
    "    dfs(0,[],0)\n",
    "    return ans"
   ]
  },
  {
   "cell_type": "markdown",
   "metadata": {},
   "source": [
    "### Question 37: Sudoku Solver\n",
    "Write a program to solve a Sudoku puzzle by filling the empty cells.\n",
    "Each of the digits 1-9 must occur exactly once in each row.\n",
    "Each of the digits 1-9 must occur exactly once in each column.\n",
    "Each of the digits 1-9 must occur exactly once in each of the 9 3x3 sub-boxes of the grid.\n",
    "The '.' character indicates empty cells."
   ]
  },
  {
   "cell_type": "code",
   "execution_count": null,
   "metadata": {},
   "outputs": [],
   "source": [
    "\"\"\"\n",
    "First we need to define a function that picks an empty space\n",
    "Second, try each viable number\n",
    "Find one that works and repeat the process\n",
    "\"\"\"\n",
    "def modify_board(board):\n",
    "    for i in range(len(board)):\n",
    "        for j in range(len(board)):\n",
    "            if board[i][j] == \".\":\n",
    "                board[i][j] = \"0\"\n",
    "    return board\n",
    "\n",
    "def find_empty(board):\n",
    "    for i in range(len(board)):\n",
    "         for j in range(len(board[0])):\n",
    "                if board[i][j] == \"0\":\n",
    "                    return (i,j)\n",
    "    return None\n",
    "\n",
    "def valid(board, num, pos):\n",
    "    # check row\n",
    "    for i in range(len(board[0])):\n",
    "        if int(board[pos[0]][i]) == num and pos[1] != i:\n",
    "            return False\n",
    "    # check column\n",
    "    for i in range(len(board[0])):\n",
    "        if int(board[i][pos[1]]) == num and pos[0] != i:\n",
    "            return False\n",
    "    # check box\n",
    "    box_x = pos[1]//3\n",
    "    box_y = pos[0]//3\n",
    "    for i in range(3*box_y, 3*box_y+3):\n",
    "        for j in range(3*box_x, 3*box_x+3):\n",
    "            if int(board[i][j]) == num and (i,j)!=pos:\n",
    "                return False\n",
    "    return True\n",
    "\n",
    "def solve(board):\n",
    "    board = modify_board(board)\n",
    "    find = find_empty(board)\n",
    "    if not find:\n",
    "        return True\n",
    "    else:\n",
    "        row,col = find\n",
    "    # Attempt to put the values in\n",
    "    for i in range(1,10):\n",
    "        if valid(board, i, (row,col)):\n",
    "            board[row][col] = str(i)\n",
    "            # Recursively try to solve it until we are done or unable to proceed\n",
    "            if solve(board):\n",
    "                return True\n",
    "            # If not: reset the last attempt to 0\n",
    "            board[row][col] = str(0)\n",
    "    return False"
   ]
  }
 ],
 "metadata": {
  "kernelspec": {
   "display_name": "Python 3",
   "language": "python",
   "name": "python3"
  },
  "language_info": {
   "codemirror_mode": {
    "name": "ipython",
    "version": 3
   },
   "file_extension": ".py",
   "mimetype": "text/x-python",
   "name": "python",
   "nbconvert_exporter": "python",
   "pygments_lexer": "ipython3",
   "version": "3.8.5"
  }
 },
 "nbformat": 4,
 "nbformat_minor": 4
}
