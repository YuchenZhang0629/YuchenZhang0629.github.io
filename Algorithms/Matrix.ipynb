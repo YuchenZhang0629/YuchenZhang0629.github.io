{
 "cells": [
  {
   "cell_type": "markdown",
   "metadata": {},
   "source": [
    "# Matrices"
   ]
  },
  {
   "cell_type": "markdown",
   "metadata": {},
   "source": [
    "### Question 36: Valid Sudokus\n",
    "For a Sudoku to be valid, we need:\n",
    "1. Each row containing 1 to 9 exactly once\n",
    "2. Each column containing 1 to 9 exactly once\n",
    "3. Each 3*3 box containing 1 to 9 exactly once"
   ]
  },
  {
   "cell_type": "code",
   "execution_count": null,
   "metadata": {},
   "outputs": [],
   "source": [
    "\"\"\"\n",
    "Use a hash set to detect duplicates for each column, row, and 3*3 bracket\n",
    "Implement a key for the hash map: rownum/3, colnum/3, take integer, get 0 or 1 or 2\n",
    "\"\"\""
   ]
  },
  {
   "cell_type": "code",
   "execution_count": 8,
   "metadata": {},
   "outputs": [],
   "source": [
    "import collections\n",
    "def IsValid(Board):\n",
    "    # First use hash sets to detect duplicates in columns\n",
    "    cols = collections.defaultdict(set)\n",
    "    rows = collections.defaultdict(set)\n",
    "    squares = collections.defaultdict(set)  # Here, key = (r/3, c/3T\n",
    "    for r in range(9):\n",
    "        for c in range(9):\n",
    "            if Board[r][c] == \".\":\n",
    "                continue\n",
    "            if (Board[r][c] in rows[r] or \n",
    "                Board[r][c] in cols[c] or\n",
    "                Board[r][c] in squares[(r//3, c//3)]):\n",
    "                return False\n",
    "            # If not: update the hash set\n",
    "            rows[r].add(Board[r][c])\n",
    "            cols[c].add(Board[r][c])\n",
    "            squares[(r//3,c//3)].add(Board[r][c])\n",
    "    return True"
   ]
  },
  {
   "cell_type": "markdown",
   "metadata": {},
   "source": [
    "### Question 37: Sudoku Solver\n",
    "Write a program to solve a Sudoku puzzle by filling the empty cells.\n",
    "Each of the digits 1-9 must occur exactly once in each row.\n",
    "Each of the digits 1-9 must occur exactly once in each column.\n",
    "Each of the digits 1-9 must occur exactly once in each of the 9 3x3 sub-boxes of the grid.\n",
    "The '.' character indicates empty cells."
   ]
  },
  {
   "cell_type": "code",
   "execution_count": 61,
   "metadata": {},
   "outputs": [],
   "source": [
    "\"\"\"\n",
    "First we need to define a function that picks an empty space\n",
    "Second, try each viable number\n",
    "Find one that works and repeat the process\n",
    "\"\"\"\n",
    "def modify_board(board):\n",
    "    for i in range(len(board)):\n",
    "        for j in range(len(board)):\n",
    "            if board[i][j] == \".\":\n",
    "                board[i][j] = \"0\"\n",
    "    return board\n",
    "\n",
    "def find_empty(board):\n",
    "    for i in range(len(board)):\n",
    "         for j in range(len(board[0])):\n",
    "                if board[i][j] == \"0\":\n",
    "                    return (i,j)\n",
    "    return None\n",
    "\n",
    "def valid(board, num, pos):\n",
    "    # check row\n",
    "    for i in range(len(board[0])):\n",
    "        if int(board[pos[0]][i]) == num and pos[1] != i:\n",
    "            return False\n",
    "    # check column\n",
    "    for i in range(len(board[0])):\n",
    "        if int(board[i][pos[1]]) == num and pos[0] != i:\n",
    "            return False\n",
    "    # check box\n",
    "    box_x = pos[1]//3\n",
    "    box_y = pos[0]//3\n",
    "    for i in range(3*box_y, 3*box_y+3):\n",
    "        for j in range(3*box_x, 3*box_x+3):\n",
    "            if int(board[i][j]) == num and (i,j)!=pos:\n",
    "                return False\n",
    "    return True\n",
    "\n",
    "def solve(board):\n",
    "    board = modify_board(board)\n",
    "    find = find_empty(board)\n",
    "    if not find:\n",
    "        return True\n",
    "    else:\n",
    "        row,col = find\n",
    "    # Attempt to put the values in\n",
    "    for i in range(1,10):\n",
    "        if valid(board, i, (row,col)):\n",
    "            board[row][col] = str(i)\n",
    "            # Recursively try to solve it until we are done or unable to proceed\n",
    "            if solve(board):\n",
    "                return True\n",
    "            # If not: reset the last attempt to 0\n",
    "            board[row][col] = str(0)\n",
    "    return False"
   ]
  }
 ],
 "metadata": {
  "kernelspec": {
   "display_name": "Python 3",
   "language": "python",
   "name": "python3"
  },
  "language_info": {
   "codemirror_mode": {
    "name": "ipython",
    "version": 3
   },
   "file_extension": ".py",
   "mimetype": "text/x-python",
   "name": "python",
   "nbconvert_exporter": "python",
   "pygments_lexer": "ipython3",
   "version": "3.8.5"
  }
 },
 "nbformat": 4,
 "nbformat_minor": 4
}
