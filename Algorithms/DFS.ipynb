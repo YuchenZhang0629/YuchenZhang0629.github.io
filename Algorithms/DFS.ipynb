{
 "cells": [
  {
   "cell_type": "markdown",
   "metadata": {},
   "source": [
    "# Depth-First-Search Algorithms"
   ]
  },
  {
   "cell_type": "markdown",
   "metadata": {},
   "source": [
    "### Unique Binary Trees, Question 95"
   ]
  },
  {
   "cell_type": "code",
   "execution_count": 1,
   "metadata": {},
   "outputs": [],
   "source": [
    "\"\"\"\n",
    "It's basically another recursive algorithm.\n",
    "1. We set the root node\n",
    "2. We split the remaining numbers to those smaller than the \n",
    "    root node and those larger than it\n",
    "3. Recurse on the left and right sub tree with numbers smaller\n",
    "    and larger than the node respectively\n",
    "4. Construct one unique tree for each of the comboss\n",
    "\"\"\"\n",
    "def generateTrees(n):\n",
    "    def dfs(nums):\n",
    "        if not nums:\n",
    "            return [None]\n",
    "            \n",
    "        ans = []\n",
    "        for i in range(len(nums)):\n",
    "            left_trees = dfs(nums[:i])\n",
    "            right_trees = dfs(nums[i+1:])\n",
    "                \n",
    "            for l in left_trees:\n",
    "                for r in right_trees:\n",
    "                    root = TreeNode(nums[i])\n",
    "                    root.left = l\n",
    "                    root.right = r\n",
    "                    ans.append(root)\n",
    "        return ans\n",
    "            \n",
    "    nums = list(range(1,n+1))\n",
    "    return dfs(nums)"
   ]
  },
  {
   "cell_type": "markdown",
   "metadata": {},
   "source": [
    "### Complete Binary Trees, Question 98"
   ]
  },
  {
   "cell_type": "code",
   "execution_count": null,
   "metadata": {},
   "outputs": [],
   "source": [
    "\"\"\"\n",
    "Determine if a tree is a complete binary tree\n",
    "1. The left subtree of a node contains only nodes with keys less than the node's key.\n",
    "2. The right subtree of a node contains only nodes with keys greater than the node's key.\n",
    "3. Both the left and right subtrees must also be binary search trees.\n",
    "\"\"\"\n",
    "def IsValidTree(self, root):\n",
    "    # Define a helper function that updates the boundary conditions and checks validity\n",
    "    def valid(node, left, right):\n",
    "        if not node:\n",
    "            return True\n",
    "        # Fails immediately when the node is not subject to the left and right constraint\n",
    "        if not (node.val < right and node.val > left):\n",
    "            return False\n",
    "        # Return True if both of them are True and False if otherwise\n",
    "        return(valid(node.left, left, node.val) and valid(node.right, node.val, right))\n",
    "    # Initialize the search tree with root and -inf and inf as boundary conditions\n",
    "    return valid(root, float(\"-inf\"), float(\"inf\"))"
   ]
  },
  {
   "cell_type": "markdown",
   "metadata": {},
   "source": [
    "### Question 99: Recover Binary Search Tree\n",
    "You are given the root of a binary search tree (BST), where the values of exactly two nodes of the tree were swapped by mistake. Recover the tree without changing its structure."
   ]
  },
  {
   "cell_type": "code",
   "execution_count": null,
   "metadata": {},
   "outputs": [],
   "source": [
    "def recoverTree(root):\n",
    "    # Find the two values using inorder traversal\n",
    "    self.p1 = None\n",
    "    self.p2 = None\n",
    "    # Track the previous value to see which next is larger than prev (error)\n",
    "    self.pre = TreeNode(float('-inf'))\n",
    "    def dfs(node):\n",
    "        if node:\n",
    "            dfs(node.left)\n",
    "            if not self.p1 and node.val<self.pre.val:\n",
    "                self.p1 = self.pre\n",
    "            if self.p1 and node.val<self.pre.val:\n",
    "                self.p2 = node\n",
    "            self.pre = node\n",
    "            dfs(node.right)\n",
    "    dfs(root)\n",
    "    self.p1.val,self.p2.val = self.p2.val,self.p1.val"
   ]
  },
  {
   "cell_type": "markdown",
   "metadata": {},
   "source": [
    "### Question 104: Maximum Depth of Binary Tree\n",
    "Given the root of a binary tree, return its maximum depth.\n",
    "\n",
    "A binary tree's maximum depth is the number of nodes along the longest path from the root node down to the farthest leaf node."
   ]
  },
  {
   "cell_type": "code",
   "execution_count": null,
   "metadata": {},
   "outputs": [],
   "source": [
    "def maxDepth(self, root: Optional[TreeNode]) -> int:\n",
    "    if not root:\n",
    "        return 0\n",
    "    def dfs(node,val):\n",
    "        if not node.left and not node.right:\n",
    "            return val\n",
    "        if node.left and not node.right:\n",
    "            #Depth[root.left] = val+1\n",
    "            return dfs(node.left,val+1)\n",
    "        if node.right and not node.left:\n",
    "            #Depth[root.right] = Depth[root]+1\n",
    "            return dfs(node.right,val+1)\n",
    "        if node.left and node.right:\n",
    "            #Depth[root.left] = Depth[root.right] = Depth[root]+1\n",
    "            return max(dfs(node.left,val+1),\n",
    "                       dfs(node.right,val+1))\n",
    "\n",
    "    return dfs(root,1)"
   ]
  },
  {
   "cell_type": "markdown",
   "metadata": {},
   "source": [
    "### Question 140: Word Break II\n",
    "Given a string s and a dictionary of strings wordDict, add spaces in s to construct a sentence where each word is a valid dictionary word. Return all such possible sentences in any order.\n",
    "\n",
    "Note that the same word in the dictionary may be reused multiple times in the segmentation."
   ]
  },
  {
   "cell_type": "code",
   "execution_count": 13,
   "metadata": {},
   "outputs": [],
   "source": [
    "def wordBreak(s, wordDict):\n",
    "    wordDict = set(wordDict)\n",
    "    ans = []\n",
    "    def dfs(word, path):\n",
    "        # Terminal condition: every letter is used\n",
    "        if len(word) == 0:\n",
    "            ans.append(\" \".join(path))\n",
    "            return\n",
    "        for i in range(1,len(word)+1):\n",
    "            if word[:i] in wordDict:\n",
    "                dfs(word[i:], path+[word[:i]])\n",
    "    dfs(s,[])\n",
    "    return ans"
   ]
  },
  {
   "cell_type": "markdown",
   "metadata": {},
   "source": [
    "### Question 2127: Maximum Employees to Be Invited to a Meeting\n",
    "The employees are numbered from 0 to n - 1. Each employee has a favorite person and they will attend the meeting only if they can sit next to their favorite person at the table. The favorite person of an employee is not themself.\n",
    "\n",
    "Given a 0-indexed integer array favorite, where favorite[i] denotes the favorite person of the ith employee, return the maximum number of employees that can be invited to the meeting."
   ]
  },
  {
   "cell_type": "code",
   "execution_count": null,
   "metadata": {},
   "outputs": [],
   "source": [
    "import collections\n",
    "def maximumInvitations(favorite):\n",
    "    n = len(favorite)\n",
    "    indegree, visited, queue, dp = [0]*n, [False]*n, collections.deque([]), [0]*n\n",
    "    for i in range(n):\n",
    "        indegree[favorite[i]] += 1\n",
    "    for i in range(n):\n",
    "        if indegree[i] == 0:\n",
    "            visited[i] = True\n",
    "            queue.append(i)\n",
    "    while queue:\n",
    "        person = queue.popleft()\n",
    "        fav = favorite[person]\n",
    "        dp[fav] = max(dp[fav],dp[person]+1)\n",
    "        indegree[fav] -= 1\n",
    "        if indegree[fav] == 0:\n",
    "            visited[fav] = True\n",
    "            queue.append[fav]\n",
    "    type1,type2 = 0,0\n",
    "    for i in range(n):\n",
    "        if not visited[i]:\n",
    "            person,length = i,0\n",
    "            while not visited[person]:\n",
    "                person,length,visited[person] = favorite[person],length+1,True\n",
    "            if length == 2:\n",
    "                type1 += (dp[person]+dp[favorite[person]]+2)\n",
    "            else:\n",
    "                type2 = max(type2,length)\n",
    "    return max(type1,type2)"
   ]
  },
  {
   "cell_type": "markdown",
   "metadata": {},
   "source": [
    "### Question 1377: Frog Position After T Seconds"
   ]
  },
  {
   "cell_type": "code",
   "execution_count": 1,
   "metadata": {},
   "outputs": [],
   "source": [
    "import collections\n",
    "def frogPosition(n, edges, t, target):\n",
    "    # First thing is to construct an adjacency list\n",
    "    neighbors = collections.defaultdict(set)\n",
    "    for edge1, edge2 in edges:\n",
    "        neighbors[edge1].add(edge2)\n",
    "        neighbors[edge2].add(edge1)\n",
    "    visited = set()\n",
    "    prob = 0.0\n",
    "    def dfs(curr,p,time):\n",
    "        nonlocal prob\n",
    "        if time >= t:\n",
    "            if curr == target:\n",
    "                prob = p\n",
    "            return\n",
    "        visited.add(curr)\n",
    "        adjacents = neighbors[curr] - visited\n",
    "        n = len(adjacents)\n",
    "        for adjacent in adjacents or [curr]:\n",
    "            dfs(adjacent,p/(n or 1),time+1)\n",
    "    dfs(1,1.0,0)\n",
    "    return prob"
   ]
  }
 ],
 "metadata": {
  "kernelspec": {
   "display_name": "Python 3",
   "language": "python",
   "name": "python3"
  },
  "language_info": {
   "codemirror_mode": {
    "name": "ipython",
    "version": 3
   },
   "file_extension": ".py",
   "mimetype": "text/x-python",
   "name": "python",
   "nbconvert_exporter": "python",
   "pygments_lexer": "ipython3",
   "version": "3.8.5"
  }
 },
 "nbformat": 4,
 "nbformat_minor": 4
}
