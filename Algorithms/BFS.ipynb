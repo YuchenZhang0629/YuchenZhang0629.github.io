{
 "cells": [
  {
   "cell_type": "markdown",
   "metadata": {},
   "source": [
    "# Breadth-First-Search Algorithms"
   ]
  },
  {
   "cell_type": "markdown",
   "metadata": {},
   "source": [
    "### Binary Tree Level Order Traversal, Question 102\n",
    "Given the root of a binary tree, return the level order traversal \n",
    "of its nodes' values. (i.e., from left to right, level by level)."
   ]
  },
  {
   "cell_type": "code",
   "execution_count": null,
   "metadata": {},
   "outputs": [],
   "source": [
    "\"\"\"\n",
    "For these we need a queue to insert the nodes\n",
    "1. Initialize the queue with the root\n",
    "2. Remove the root and add it to a sub-list\n",
    "3. The same time we pop the 3, we need to add its children\n",
    "4. Pop from left to right into another sub list.\n",
    "\"\"\"\n",
    "def levelOrder(self, root):\n",
    "    # Create a list that holds the results\n",
    "    res = []\n",
    "    # Create a queue\n",
    "    q = collections.deque()\n",
    "    # Initialize the queue with the root\n",
    "    q.append(root)\n",
    "    # Now run the BFS. This occurs when the queue is non-empty\n",
    "    while q:\n",
    "        # Making sure that we are iterating one level at a time\n",
    "        length_q = len(q)\n",
    "        # Create a list for its own level\n",
    "        current_level = []\n",
    "        for i in range(lenght_q):\n",
    "            node = q.popleft()\n",
    "            if node:\n",
    "                current_level.append(node.val)\n",
    "                q.append(node.left)\n",
    "                q.append(node.right)\n",
    "        # We can have null nodes so definitely take that into consideration\n",
    "        if current_level:\n",
    "            res.append(current_level)\n",
    "    return res"
   ]
  },
  {
   "cell_type": "markdown",
   "metadata": {},
   "source": [
    "### Question 127: Word Ladder\n",
    "Given two words, beginWord and endWord, and a dictionary wordList, return the number of words in the shortest transformation sequence from beginWord to endWord, or 0 if no such sequence exists."
   ]
  },
  {
   "cell_type": "code",
   "execution_count": 179,
   "metadata": {},
   "outputs": [],
   "source": [
    "import collections\n",
    "def differ_by_one(word1:str, word2:str):\n",
    "    # We assume the two are of equal length\n",
    "    total = 0\n",
    "    for i in range(len(word1)):\n",
    "        if word1[i] != word2[i]:\n",
    "            total += 1\n",
    "    return total == 1\n",
    "def ladderLength(beginWord, endWord, wordList):\n",
    "    if endWord not in wordList:\n",
    "        return 0\n",
    "    # Implement a deque, insert the words from the list for each level\n",
    "    q = collections.deque()\n",
    "    # First we append the beginword\n",
    "    q.append(beginWord)\n",
    "    length = 1\n",
    "    while q and wordList:\n",
    "        for i in range(len(q)):\n",
    "            newList = []\n",
    "            curr = q[0]\n",
    "            while wordList:\n",
    "                if differ_by_one(curr,wordList[0]):\n",
    "                    q.append(wordList[0])\n",
    "                    if wordList[0] == endWord:\n",
    "                        return length+1\n",
    "                    wordList.remove(wordList[0])\n",
    "                else:\n",
    "                    newList.append(wordList[0])\n",
    "                    wordList.remove(wordList[0])\n",
    "            q.popleft()\n",
    "            wordList = newList\n",
    "        length+=1\n",
    "    return 0"
   ]
  },
  {
   "cell_type": "code",
   "execution_count": null,
   "metadata": {},
   "outputs": [],
   "source": [
    "def ladderLength(beginWord, endWord, wordList):\n",
    "    if endWord not in wordList:\n",
    "        return 0\n",
    "    neighbors = collections.defaultdict(list)\n",
    "    wordList.append(beginWord)\n",
    "    for word in wordList:\n",
    "        for j in range(len(word)):\n",
    "            pattern = word[:j]+\"*\"+word[j+1:]\n",
    "            neighbors[pattern].append(word)\n",
    "    visit = set([beginWord])\n",
    "    q = collections.deque([beginWord])\n",
    "    res = 1\n",
    "    while q:\n",
    "        for i in range(len(q)):\n",
    "            word = q.popleft()\n",
    "            if word == endWord:\n",
    "                return res\n",
    "            for j in range(len(word)):\n",
    "                pattern = word[:j]+\"*\"+word[j+1:]\n",
    "                for neighborword in neighbors[pattern]:\n",
    "                    if neighborword not in visit:\n",
    "                        visit.add(neighborword)\n",
    "                        q.append(neighborword)\n",
    "        res+=1\n",
    "    return 0"
   ]
  },
  {
   "cell_type": "markdown",
   "metadata": {},
   "source": [
    "### Question 126: Word Ladder 2\n",
    "A transformation sequence from word beginWord to word endWord using a dictionary wordList is a sequence of words beginWord -> s1 -> s2 -> ... -> sk such that:\n",
    "\n",
    "Every adjacent pair of words differs by a single letter.\n",
    "Every si for 1 <= i <= k is in wordList. Note that beginWord does not need to be in wordList.\n",
    "sk == endWord\n",
    "Given two words, beginWord and endWord, and a dictionary wordList, return all the shortest transformation sequences"
   ]
  },
  {
   "cell_type": "code",
   "execution_count": 59,
   "metadata": {},
   "outputs": [
    {
     "data": {
      "text/plain": [
       "[['hit', 'hot', 'dot', 'dog', 'cog'], ['hit', 'hot', 'lot', 'log', 'cog']]"
      ]
     },
     "execution_count": 59,
     "metadata": {},
     "output_type": "execute_result"
    }
   ],
   "source": [
    "\"\"\"\n",
    "General Idea:\n",
    "1. We use a visited set that keeps track of the already visited nodes so that\n",
    "our adjacency list only points to those in the higher level\n",
    "2. We use an adjacency list to record the nodes' children\n",
    "3. We perform DFS on the adjacency list to search for the required length\n",
    "\n",
    "\"\"\"\n",
    "import collections\n",
    "ans = []\n",
    "def dfs(adja,start,end,temp):\n",
    "    root = start\n",
    "    if len(temp) == 5 or root == end:\n",
    "        ans.append(temp)\n",
    "    if adja[root]:\n",
    "        for i in adja[root]:\n",
    "            dfs(adja,i,end,temp+[i])\n",
    "            \n",
    "def findLadders(beginWord,endWord,wordList):\n",
    "    if endWord not in wordList:\n",
    "        return []\n",
    "    wordList.append(beginWord)\n",
    "    # Create an adjacency list\n",
    "    neighbors = collections.defaultdict(list)\n",
    "    for word in wordList:\n",
    "        for i in range(len(word)):\n",
    "            pattern = word[:i]+\"*\"+word[i+1:]\n",
    "            neighbors[pattern].append(word)\n",
    "    # We also create a list of visited words\n",
    "    visited = collections.defaultdict(list)\n",
    "    visited[beginWord]=1\n",
    "    # Create a queue that iterates throgh each level (BFS) and length variable to keep track\n",
    "    q = collections.deque()\n",
    "    q.append(beginWord)\n",
    "    length = 1\n",
    "    adjacency = collections.defaultdict(list)\n",
    "    while q:\n",
    "        for i in range(len(q)):\n",
    "            word = q.popleft()\n",
    "            for j in range(len(word)):\n",
    "                pattern = word[:j]+\"*\"+word[j+1:]\n",
    "                for neighborword in neighbors[pattern]:\n",
    "                    \"\"\"\n",
    "                    Here we need to consider instances of multiple nodes leading to same endWord\n",
    "                    \"\"\"\n",
    "                    if neighborword == endWord:\n",
    "                        adjacency[word].append(neighborword)\n",
    "                    else:\n",
    "                        if neighborword not in visited:\n",
    "                            visited[neighborword] = length+1\n",
    "                            # Update the adjacency list\n",
    "                            q.append(neighborword)\n",
    "                            adjacency[word].append(neighborword)\n",
    "        length+=1\n",
    "        visited[endWord] = length\n",
    "    # Find the depth of the BFS algorithm and prepare to do DFS in the neighbors\n",
    "    if endWord in visited:\n",
    "        depth = visited[endWord]\n",
    "    else:\n",
    "        return []\n",
    "    dfs(adjacency,beginWord,endWord,[beginWord])\n",
    "    \n",
    "    for i in ans:\n",
    "        if i[-1] != endWord:\n",
    "            ans.remove(i)\n",
    "    return ans\n",
    "findLadders(\"hit\",\"cog\",[\"hot\",\"dot\",\"dog\",\"lot\",\"log\",\"cog\"])\n",
    "#findLadders(\"ab\",\"cd\",[\"ad\",\"cb\",\"cd\"])"
   ]
  },
  {
   "cell_type": "code",
   "execution_count": 72,
   "metadata": {},
   "outputs": [
    {
     "data": {
      "text/plain": [
       "[['hit', 'hot', 'dot', 'dog', 'cog'], ['hit', 'hot', 'lot', 'log', 'cog']]"
      ]
     },
     "execution_count": 72,
     "metadata": {},
     "output_type": "execute_result"
    }
   ],
   "source": [
    "\"\"\"\n",
    "Using modifications to Dijkstra's Algorithm\n",
    "\"\"\"\n",
    "def findLadders(beginWord,endWord,wordList):\n",
    "    L = len(beginWord)\n",
    "    neighbors = []\n",
    "    for i in range(L):\n",
    "        neighbors.append(set([w[i] for w in wordList]))\n",
    "    dis = {w:len(wordList)+10 for w in wordList}\n",
    "    dis[beginWord] = 1\n",
    "    res = []\n",
    "    q = collections.deque([([beginWord], beginWord)])\n",
    "    while(q):\n",
    "        for i in range(len(q)):\n",
    "            # A list that denotes the path and the word itself\n",
    "            path, word = q.popleft()\n",
    "            if word == endWord:\n",
    "                res.append(path)\n",
    "            for j in range(L):\n",
    "                for neighbor in neighbors[j]:\n",
    "                    if neighbor == word[j]:\n",
    "                        continue\n",
    "                    Next = word[:j]+neighbor+word[j+1:]\n",
    "                    if Next in dis and len(path)+1<=dis[Next]:\n",
    "                        dis[Next]=len(path)+1\n",
    "                        q.append((path+[Next], Next))\n",
    "    return res\n",
    "findLadders(\"hit\",\"cog\",[\"hot\",\"dot\",\"dog\",\"lot\",\"log\",\"cog\"])"
   ]
  },
  {
   "cell_type": "markdown",
   "metadata": {},
   "source": [
    "### Question 103: Binary Tree Zigzag Level Order Traversal\n",
    "Given the root of a binary tree, return the zigzag level order traversal of its nodes' values. (i.e., from left to right, then right to left for the next level and alternate between)."
   ]
  },
  {
   "cell_type": "code",
   "execution_count": null,
   "metadata": {},
   "outputs": [],
   "source": [
    "import collections\n",
    "# Definition for a binary tree node.\n",
    "# class TreeNode:\n",
    "#     def __init__(self, val=0, left=None, right=None):\n",
    "#         self.val = val\n",
    "#         self.left = left\n",
    "#         self.right = right\n",
    "class Solution:\n",
    "    def zigzagLevelOrder(root):\n",
    "        q = collections.deque()\n",
    "        q.append(root)\n",
    "        i = 0\n",
    "        ans = []\n",
    "        while q:\n",
    "            # Create a new array denoting the specific level\n",
    "            level = []\n",
    "            # If level number % 2 == 0: popleft\n",
    "            if i % 2 == 0:\n",
    "                for j in range(len(q)):\n",
    "                    val = q.popleft()\n",
    "                    if val:\n",
    "                        level.append(val.val)\n",
    "                        q.append(val.left)\n",
    "                        q.append(val.right)\n",
    "                i += 1\n",
    "            else:\n",
    "                for j in range(len(q)):\n",
    "                    val = q.pop()\n",
    "                    if val:\n",
    "                        level.append(val.val)\n",
    "                        q.appendleft(val.right)\n",
    "                        q.appendleft(val.left)\n",
    "                i += 1\n",
    "            if level:\n",
    "                ans.append(level)\n",
    "        return ans"
   ]
  },
  {
   "cell_type": "markdown",
   "metadata": {},
   "source": [
    "### Question 107. Binary Tree Level Order Traversal II\n",
    "Given the root of a binary tree, return the bottom-up level order traversal of its nodes' values. (i.e., from left to right, level by level from leaf to root)."
   ]
  },
  {
   "cell_type": "code",
   "execution_count": null,
   "metadata": {},
   "outputs": [],
   "source": [
    "def levelOrderBottom(self, root: Optional[TreeNode]) -> List[List[int]]:\n",
    "    if not root:\n",
    "        return []\n",
    "    q = collections.deque()\n",
    "    q.append(root)\n",
    "    ans = []\n",
    "\n",
    "    while q:\n",
    "        temp = []\n",
    "        for j in range(len(q)):\n",
    "            node = q.popleft()\n",
    "            # temp.append(node.val)\n",
    "            if node:\n",
    "                temp.append(node.val)\n",
    "                if node.left:\n",
    "                    q.append(node.left)\n",
    "                if node.right:\n",
    "                    q.append(node.right)\n",
    "        ans.insert(0,temp)\n",
    "    return ans"
   ]
  },
  {
   "cell_type": "markdown",
   "metadata": {},
   "source": [
    "### 765: Couples Holding Hands\n",
    "There are n couples sitting in 2n seats arranged in a row and want to hold hands.\n",
    "\n",
    "The people and seats are represented by an integer array row where row[i] is the ID of the person sitting in the ith seat. The couples are numbered in order, the first couple being (0, 1), the second couple being (2, 3), and so on with the last couple being (2n - 2, 2n - 1).\n",
    "\n",
    "Return the minimum number of swaps so that every couple is sitting side by side. A swap consists of choosing any two people, then they stand up and switch seats."
   ]
  },
  {
   "cell_type": "code",
   "execution_count": 240,
   "metadata": {},
   "outputs": [],
   "source": [
    "def swap(array,i,j):\n",
    "    array[i], array[j] = array[j], array[i]\n",
    "    return array\n",
    "def minSwapsCouples(row):\n",
    "    Map = {}\n",
    "    L = int(len(row)/2)\n",
    "    for i in range(len(row)):\n",
    "        Map[row[i]] = i\n",
    "    # keep track of the swaps\n",
    "    swaps = 0\n",
    "    for i in range(L):\n",
    "        first = row[2*i]\n",
    "        second = first + (1 if first%2 == 0 else -1)\n",
    "        if row[2*i+1] != second:\n",
    "            swaps += 1\n",
    "            temp = row[2*i+1]\n",
    "            index = Map[second]\n",
    "            swap(row,2*i+1,Map[second])\n",
    "            Map[second] = 2*i+1\n",
    "            Map[temp] = index\n",
    "    return swaps"
   ]
  }
 ],
 "metadata": {
  "kernelspec": {
   "display_name": "Python 3",
   "language": "python",
   "name": "python3"
  },
  "language_info": {
   "codemirror_mode": {
    "name": "ipython",
    "version": 3
   },
   "file_extension": ".py",
   "mimetype": "text/x-python",
   "name": "python",
   "nbconvert_exporter": "python",
   "pygments_lexer": "ipython3",
   "version": "3.8.5"
  }
 },
 "nbformat": 4,
 "nbformat_minor": 4
}
