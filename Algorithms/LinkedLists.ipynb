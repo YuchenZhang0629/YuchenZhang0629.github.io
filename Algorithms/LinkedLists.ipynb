{
 "cells": [
  {
   "cell_type": "markdown",
   "metadata": {},
   "source": [
    "# Linked Lists"
   ]
  },
  {
   "cell_type": "markdown",
   "metadata": {},
   "source": [
    "### Question 24: Swap Nodes in Pairs\n",
    "Given a linked list, swap every two adjacent nodes and return its head. You must solve the problem without modifying the values in the list's nodes (i.e., only nodes themselves may be changed.)"
   ]
  },
  {
   "cell_type": "code",
   "execution_count": null,
   "metadata": {},
   "outputs": [],
   "source": [
    "\"\"\"\n",
    "First we want to reverse the current and previous node\n",
    "After the swap, have the first point to the third\n",
    "Then have the dummy point to the second node\n",
    "Pay attention to the order. We update prev.next after we swap cur and second.\n",
    "Finally, update cur and prev\n",
    "\"\"\"\n",
    "def swapPairs(head):\n",
    "    dummy = ListNode(0,head)\n",
    "    prev, cur = dummy, head\n",
    "    # Proceed this when there still is a next value\n",
    "    while cur and cur.next:\n",
    "        # Save the next two nodes as new variables for convenience\n",
    "        second = cur.next.next\n",
    "        first = cur.next\n",
    "        # Update the pointers\n",
    "        first.next = cur\n",
    "        cur.next = second\n",
    "        prev.next = first\n",
    "        # Update prev and cur: we set prev = cur because we already changed the order\n",
    "        prev = cur\n",
    "        cur = second\n",
    "    return dummy.next"
   ]
  },
  {
   "cell_type": "markdown",
   "metadata": {},
   "source": [
    "### Question 25: Reverse Nodes in k-Group\n",
    "Given the head of a linked list, reverse the nodes of the list k at a time, and return the modified list.\n",
    "\n",
    "k is a positive integer and is less than or equal to the length of the linked list. If the number of nodes is not a multiple of k then left-out nodes, in the end, should remain as it is.\n",
    "\n",
    "You may not alter the values in the list's nodes, only nodes themselves may be changed."
   ]
  },
  {
   "cell_type": "code",
   "execution_count": null,
   "metadata": {},
   "outputs": [],
   "source": [
    "\"\"\"\n",
    "General Idea:\n",
    "Reverse the nodes in each pair\n",
    "Change the next pointer for the first one to i+k\n",
    "\"\"\"\n",
    "def getnode(curr,k):\n",
    "        while curr and k>0:\n",
    "            curr = curr.next\n",
    "            k-=1\n",
    "        return curr\n",
    "def reverseKGroup(head,k):\n",
    "    dummy = ListNode(0,head)\n",
    "    # Need a pointer right before the first reversed group\n",
    "    groupPrev = dummy\n",
    "    while True:\n",
    "        kth = getnode(groupPrev,k)\n",
    "        if not kth:\n",
    "            break\n",
    "        # Store the group right after the kth index\n",
    "        groupNext = kth.next\n",
    "        # Reverse group. Initially kth.next==None\n",
    "        prev,curr = kth.next,groupPrev.next\n",
    "        # When it is not the last group\n",
    "        while curr!= groupNext:\n",
    "            temp = curr.next\n",
    "            curr.next = prev\n",
    "            prev = curr\n",
    "            curr = temp\n",
    "        temp = groupPrev.next\n",
    "        groupPrev.next = kth\n",
    "        groupPrev = temp\n",
    "    # Use a helper function to get the kth value from the current node\n",
    "    return dummy.next"
   ]
  },
  {
   "cell_type": "markdown",
   "metadata": {},
   "source": [
    "### Question 61: Rotate List\n",
    "Given the head of a linked list, rotate the list to the right by k places."
   ]
  },
  {
   "cell_type": "code",
   "execution_count": 3,
   "metadata": {},
   "outputs": [],
   "source": [
    "class ListNode:\n",
    "    def __init__(self, val=0, Next=None):\n",
    "        self.val = val\n",
    "        self.next = Next\n",
    "            \n",
    "class Solution:\n",
    "    def rotateRight(self, head, k):\n",
    "        dummy = ListNode(0,head)\n",
    "        curr = dummy.next\n",
    "        # Get the length\n",
    "        L = 1\n",
    "        while curr and curr.next:\n",
    "            L += 1\n",
    "            curr = curr.next\n",
    "        \n",
    "        if L == 0:\n",
    "            return None\n",
    "        elif k%L == 0:\n",
    "            return dummy.next\n",
    "        else:\n",
    "            index = L - k%L\n",
    "\n",
    "            i = 0\n",
    "            dummy = ListNode(0,head)\n",
    "            curr = dummy.next\n",
    "            temp = ListNode()\n",
    "            if L == 2:\n",
    "                # curr.next = None\n",
    "                temp = curr.next\n",
    "                curr.next = None\n",
    "            else: \n",
    "                while i < index:\n",
    "                    if i+1 == index:\n",
    "                        temp = curr.next\n",
    "                        curr.next = None\n",
    "                    else:\n",
    "                        curr = curr.next\n",
    "                    i+=1\n",
    "                         \n",
    "            dummy = ListNode(0,temp)\n",
    "            Next = dummy.next\n",
    "            while Next:\n",
    "                if Next.next:\n",
    "                    \n",
    "                    Next = Next.next\n",
    "                elif not Next.next:\n",
    "                    Next.next = head\n",
    "                    break\n",
    "\n",
    "            return dummy.next"
   ]
  },
  {
   "cell_type": "code",
   "execution_count": null,
   "metadata": {},
   "outputs": [],
   "source": [
    "class Solution:\n",
    "    def rotateRight(self, head: Optional[ListNode], k: int) -> Optional[ListNode]:\n",
    "        if head is None:\n",
    "            return None\n",
    "        n = 0\n",
    "        node = head\n",
    "        while node:\n",
    "            n += 1\n",
    "            node = node.next   \n",
    "        left = n - k % n\n",
    "        if left == n:\n",
    "            return head\n",
    "        c = 0\n",
    "        node = head\n",
    "        while node:\n",
    "            c += 1\n",
    "            if c == left:\n",
    "                new_tail = node\n",
    "                new_head = node.next\n",
    "            if c == n:\n",
    "                orig_tail = node\n",
    "            node = node.next  \n",
    "        orig_tail.next = head\n",
    "        new_tail.next = None\n",
    "        \n",
    "        return new_head"
   ]
  },
  {
   "cell_type": "markdown",
   "metadata": {},
   "source": [
    "### Question 83: Remove Duplicates from Sorted List\n",
    "Given the head of a sorted linked list, delete all duplicates such that each element appears only once. Return the linked list sorted as well."
   ]
  },
  {
   "cell_type": "code",
   "execution_count": null,
   "metadata": {},
   "outputs": [],
   "source": [
    "def deleteDuplicates(self, head: Optional[ListNode]) -> Optional[ListNode]:\n",
    "    if not head:\n",
    "        return None\n",
    "\n",
    "    dummy = ListNode(0,head)\n",
    "    prev,cur = dummy,head\n",
    "\n",
    "    while cur.next:\n",
    "        while cur.next.val == cur.val:\n",
    "            cur = cur.next\n",
    "\n",
    "            if not cur.next:\n",
    "                prev.next = cur\n",
    "                return dummy.next\n",
    "\n",
    "            if cur.next.val != cur.val:\n",
    "                break\n",
    "        temp = cur.next\n",
    "        prev.next = cur\n",
    "        prev = cur\n",
    "        cur = temp\n",
    "\n",
    "    return dummy.next"
   ]
  }
 ],
 "metadata": {
  "kernelspec": {
   "display_name": "Python 3",
   "language": "python",
   "name": "python3"
  },
  "language_info": {
   "codemirror_mode": {
    "name": "ipython",
    "version": 3
   },
   "file_extension": ".py",
   "mimetype": "text/x-python",
   "name": "python",
   "nbconvert_exporter": "python",
   "pygments_lexer": "ipython3",
   "version": "3.8.5"
  }
 },
 "nbformat": 4,
 "nbformat_minor": 4
}
