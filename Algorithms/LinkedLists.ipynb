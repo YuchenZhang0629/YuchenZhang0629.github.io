{
 "cells": [
  {
   "cell_type": "markdown",
   "metadata": {},
   "source": [
    "# Linked Lists"
   ]
  },
  {
   "cell_type": "markdown",
   "metadata": {},
   "source": [
    "### Question 24: Swap Nodes in Pairs\n",
    "Given a linked list, swap every two adjacent nodes and return its head. You must solve the problem without modifying the values in the list's nodes (i.e., only nodes themselves may be changed.)"
   ]
  },
  {
   "cell_type": "code",
   "execution_count": null,
   "metadata": {},
   "outputs": [],
   "source": [
    "\"\"\"\n",
    "First we want to reverse the current and previous node\n",
    "After the swap, have the first point to the third\n",
    "Then have the dummy point to the second node\n",
    "Pay attention to the order. We update prev.next after we swap cur and second.\n",
    "Finally, update cur and prev\n",
    "\"\"\"\n",
    "def swapPairs(head):\n",
    "    dummy = ListNode(0,head)\n",
    "    prev, cur = dummy, head\n",
    "    # Proceed this when there still is a next value\n",
    "    while cur and cur.next:\n",
    "        # Save the next two nodes as new variables for convenience\n",
    "        second = cur.next.next\n",
    "        first = cur.next\n",
    "        # Update the pointers\n",
    "        first.next = cur\n",
    "        cur.next = second\n",
    "        prev.next = first\n",
    "        # Update prev and cur: we set prev = cur because we already changed the order\n",
    "        prev = cur\n",
    "        cur = second\n",
    "    return dummy.next"
   ]
  }
 ],
 "metadata": {
  "kernelspec": {
   "display_name": "Python 3",
   "language": "python",
   "name": "python3"
  },
  "language_info": {
   "codemirror_mode": {
    "name": "ipython",
    "version": 3
   },
   "file_extension": ".py",
   "mimetype": "text/x-python",
   "name": "python",
   "nbconvert_exporter": "python",
   "pygments_lexer": "ipython3",
   "version": "3.8.5"
  }
 },
 "nbformat": 4,
 "nbformat_minor": 4
}
