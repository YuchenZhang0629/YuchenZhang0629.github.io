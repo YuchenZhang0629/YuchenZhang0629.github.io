{
 "cells": [
  {
   "cell_type": "markdown",
   "metadata": {},
   "source": [
    "# Trees General"
   ]
  },
  {
   "cell_type": "markdown",
   "metadata": {},
   "source": [
    "### Question 105: Constructing trees from preorder and inorder traversal\n",
    "Given two integer arrays preorder and inorder where preorder is the preorder traversal of a binary tree and inorder is the inorder traversal of the same tree, construct and return the binary tree."
   ]
  },
  {
   "cell_type": "code",
   "execution_count": null,
   "metadata": {},
   "outputs": [],
   "source": [
    "\"\"\"\n",
    "Fact: Preorder always starts from root. Take out the root, do the rest recursively.\n",
    "Remove root from preorder, find it in the inorder array.\n",
    "    -> Every value left of it goes into the left subtree\n",
    "    -> Every value right of it goes into the right subtree\n",
    "Afterwards: partition the remaining into left and right in the preorder array\n",
    "\n",
    "\"\"\"\n",
    "def buildTree(preorder, inorder):\n",
    "    if not preorder or not inorder:\n",
    "        return None\n",
    "    root = TreeNode(preorder[0])\n",
    "    pos = inorder.index(preorder[0])\n",
    "    root.left = buildTree(preorder[1:pos+1], inorder[:pos])\n",
    "    root.right = buildTree(preorder[pos+1:], inorder[pos+1:])\n",
    "    return root"
   ]
  },
  {
   "cell_type": "markdown",
   "metadata": {},
   "source": [
    "### Question 96: Number of unique binary search trees\n",
    "Given an integer n, return the number of structurally unique BST's (binary search trees) which has exactly n nodes of unique values from 1 to n"
   ]
  },
  {
   "cell_type": "code",
   "execution_count": 5,
   "metadata": {},
   "outputs": [],
   "source": [
    "\"\"\"\n",
    "To compute numTrees(n):\n",
    "We need to sum up numTrees(k)*numTrees(n-k-1) for all k from 0 to n-1\n",
    "\"\"\"\n",
    "def numTrees(n):\n",
    "    # Use a vector to store the numbers\n",
    "    Num = [1]*(n+1)\n",
    "    for i in range(2,n+1):\n",
    "        # Count seperately for every number of nodes\n",
    "        total = 0\n",
    "        for j in range(1,i+1):\n",
    "            NumLeft = j-1\n",
    "            NumRight = i-j\n",
    "            total += Num[NumLeft]*Num[NumRight]\n",
    "        Num[i] = total\n",
    "    return Num[n]"
   ]
  },
  {
   "cell_type": "markdown",
   "metadata": {},
   "source": [
    "### Question 103: Binary Tree Zigzag Level Order Traversal\n",
    "Given the root of a binary tree, return the zigzag level order traversal of its nodes' values. (i.e., from left to right, then right to left for the next level and alternate between)."
   ]
  },
  {
   "cell_type": "code",
   "execution_count": 19,
   "metadata": {},
   "outputs": [],
   "source": [
    "import collections\n",
    "# Definition for a binary tree node.\n",
    "# class TreeNode:\n",
    "#     def __init__(self, val=0, left=None, right=None):\n",
    "#         self.val = val\n",
    "#         self.left = left\n",
    "#         self.right = right\n",
    "class Solution:\n",
    "    def zigzagLevelOrder(root):\n",
    "        q = collections.deque()\n",
    "        q.append(root)\n",
    "        i = 0\n",
    "        ans = []\n",
    "        while q:\n",
    "            # Create a new array denoting the specific level\n",
    "            level = []\n",
    "            # If level number % 2 == 0: popleft\n",
    "            if i % 2 == 0:\n",
    "                for j in range(len(q)):\n",
    "                    val = q.popleft()\n",
    "                    if val:\n",
    "                        level.append(val.val)\n",
    "                        q.append(val.left)\n",
    "                        q.append(val.right)\n",
    "                i += 1\n",
    "            else:\n",
    "                for j in range(len(q)):\n",
    "                    val = q.pop()\n",
    "                    if val:\n",
    "                        level.append(val.val)\n",
    "                        q.appendleft(val.right)\n",
    "                        q.appendleft(val.left)\n",
    "                i += 1\n",
    "            if level:\n",
    "                ans.append(level)\n",
    "        return ans"
   ]
  },
  {
   "cell_type": "markdown",
   "metadata": {},
   "source": [
    "### Question 101: Symmetric Tree\n",
    "Given the root of a binary tree, check whether it is a mirror of itself (i.e., symmetric around its center)."
   ]
  },
  {
   "cell_type": "code",
   "execution_count": null,
   "metadata": {},
   "outputs": [],
   "source": [
    "def isMirror(Node1,Node2):\n",
    "    if not Node1 and not Node2:\n",
    "        return True\n",
    "    if not Node1 or not Node2:\n",
    "        return False\n",
    "    bool1 = Node1.val == Node2.val\n",
    "    bool2 = isMirror(Node1.left,Node2.right)\n",
    "    bool3 = isMirror(Node1.right,Node2.left)\n",
    "    return bool1 and bool2 and bool3\n",
    "\n",
    "def isSymmetric(root) -> bool:\n",
    "    if not root.left and not root.right:\n",
    "        return True\n",
    "    if not root.left or not root.right:\n",
    "        return False\n",
    "    return isMirror(root.left,root.right)"
   ]
  }
 ],
 "metadata": {
  "kernelspec": {
   "display_name": "Python 3",
   "language": "python",
   "name": "python3"
  },
  "language_info": {
   "codemirror_mode": {
    "name": "ipython",
    "version": 3
   },
   "file_extension": ".py",
   "mimetype": "text/x-python",
   "name": "python",
   "nbconvert_exporter": "python",
   "pygments_lexer": "ipython3",
   "version": "3.8.5"
  }
 },
 "nbformat": 4,
 "nbformat_minor": 4
}
