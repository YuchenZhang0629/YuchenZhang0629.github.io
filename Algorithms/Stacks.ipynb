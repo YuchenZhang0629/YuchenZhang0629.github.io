{
 "cells": [
  {
   "cell_type": "markdown",
   "metadata": {},
   "source": [
    "# Stacks and Monotonic Stackss"
   ]
  },
  {
   "cell_type": "markdown",
   "metadata": {},
   "source": [
    "### Question 71: Simplify Path\n",
    "Given a string path, which is an absolute path (starting with a slash '/') to a file or directory in a Unix-style file system, convert it to the simplified canonical path."
   ]
  },
  {
   "cell_type": "code",
   "execution_count": null,
   "metadata": {},
   "outputs": [],
   "source": [
    "\"\"\"\n",
    "We are going to stop by each backslash to check whether cur is .. or .\n",
    "If it is the very start or has consecutive /'s, then set cur as empty.\n",
    "\"\"\"\n",
    "def simplifyPath(path):\n",
    "    stack = []\n",
    "    cur = \"\"\n",
    "    for c in path + \"/\":\n",
    "        if c == \"/\":\n",
    "            if cur == \"..\":\n",
    "                if stack:\n",
    "                    stack.pop()\n",
    "            elif cur != \"\" and cur != \".\":\n",
    "                stack.append(cur)\n",
    "            cur = \"\"\n",
    "        else:\n",
    "            cur += c\n",
    "    \n",
    "    return \"/\"+\"/\".join(stack)"
   ]
  },
  {
   "cell_type": "markdown",
   "metadata": {},
   "source": [
    "### Question 84: Largest Rectangle in histogram\n",
    "Given an array of integers heights representing the histogram's bar height where the width of each bar is 1, return the area of the largest rectangle in the histogram."
   ]
  },
  {
   "cell_type": "code",
   "execution_count": null,
   "metadata": {},
   "outputs": [],
   "source": [
    "def largestRectangleArea(heights):\n",
    "    max_area = 0\n",
    "    stack = []\n",
    "    for (i,h) in enumerate(heights):\n",
    "        start = i\n",
    "        while stack and stack[-1][1]>h:\n",
    "            index,height = stack.pop()\n",
    "            max_area = max(max_area,height*abs(i-index))\n",
    "            start = index\n",
    "        stack.append((start,h))\n",
    "    for i, h in stack:\n",
    "        max_area = max(max_area,h*(len(heights)-i))\n",
    "    return max_area"
   ]
  },
  {
   "cell_type": "markdown",
   "metadata": {},
   "source": [
    "### Question 42: Trapping water\n",
    "Given n non-negative integers representing an elevation map where the width of each bar is 1, compute how much water it can trap after raining."
   ]
  },
  {
   "cell_type": "code",
   "execution_count": null,
   "metadata": {},
   "outputs": [],
   "source": [
    "\"\"\"\n",
    "Idea: The amount of water it could trap in one position is the min height\n",
    "of its left and its right minus its own height.\n",
    "Method 1: Three arrays documenting max left, max right, and min of those.\n",
    "Method 2: Two pointers. Starting from two ends, then update the one with\n",
    "    smaller max value then shift it towards middle.\n",
    "\"\"\"\n",
    "import numpy as np\n",
    "def trap(height):\n",
    "    min_vec = np.zeros(len(height)).astype(int)\n",
    "    left_pointer = 0\n",
    "    right_pointer = len(height)-1\n",
    "    left = height[0]\n",
    "    right = height[-1]\n",
    "    \n",
    "    while right_pointer > left_pointer:\n",
    "        if left <= right:\n",
    "            left_pointer += 1\n",
    "            min_vec[left_pointer] = min(left, right)\n",
    "            left = max(left, height[left_pointer])\n",
    "        else:\n",
    "            right_pointer -= 1\n",
    "            min_vec[right_pointer+1] = min(left, right)\n",
    "            right = max(right,height[right_pointer+1])\n",
    "    min_vec[0] = min_vec[-1] = 0\n",
    "\n",
    "    # return min_vec\n",
    "    return np.sum((min_vec - height > 0).astype(int)*(min_vec - height))\n",
    "\n",
    "## Note: Pay attention to the order which we update the pointer and left or right values ##"
   ]
  },
  {
   "cell_type": "markdown",
   "metadata": {},
   "source": [
    "### Question 221: Maximal Square\n",
    "Given an m x n binary matrix filled with 0's and 1's, find the largest square containing only 1's and return its area."
   ]
  },
  {
   "cell_type": "code",
   "execution_count": null,
   "metadata": {},
   "outputs": [],
   "source": [
    "\"\"\"\n",
    "Use backtracking: start from the bottom right corner\n",
    "When a cell's all three incoming directions are 1: add 1\n",
    "If any of them is zero: its value equals itself\n",
    "\"\"\" \n",
    "def maximalSquare(matrix):\n",
    "    R, C = len(matrix),len(matrix[0])\n",
    "    cache = {} # Maps from the position to the max area from that position\n",
    "    \n",
    "    # Define a helper function that takes in values from all three directions\n",
    "    def helper(r,c):\n",
    "        if r>=R or c>=C:\n",
    "            return 0\n",
    "        if (r,c) not in cache:\n",
    "            down = helper(r+1,c)\n",
    "            right = helper(r,c+1)\n",
    "            diag = helper(r+1,c+1)\n",
    "            \n",
    "            cache[(r,c)] = 0\n",
    "            if matrix[r][c] == \"1\":\n",
    "                cache[(r,c)] = 1+min(down,right,diag)\n",
    "        return cache[(r,c)]\n",
    "    helper(0,0)\n",
    "    return max(cache.values())**2"
   ]
  },
  {
   "cell_type": "markdown",
   "metadata": {},
   "source": [
    "### Question 85: Maximal Rectangle\n",
    "Given a rows x cols binary matrix filled with 0's and 1's, find the largest rectangle containing only 1's and return its area."
   ]
  },
  {
   "cell_type": "code",
   "execution_count": null,
   "metadata": {},
   "outputs": [],
   "source": [
    "\"\"\"\n",
    "For each first n rows: compute the histogram\n",
    "Find the maximum area of each histogram\n",
    "Find the maximum of the max values\n",
    "\"\"\"\n",
    "def largestRectangleArea(heights):\n",
    "    max_area = 0\n",
    "    stack = []\n",
    "    for (i,h) in enumerate(heights):\n",
    "        start = i\n",
    "        while stack and stack[-1][1] > h:\n",
    "            index,height = stack.pop()\n",
    "            max_area = max(max_area,height*abs(i-index))\n",
    "            start = index\n",
    "        stack.append((start,h))\n",
    "    for (i,h) in stack:\n",
    "        max_area = max(max_area,h*(len(heights)-i))\n",
    "    return max_area\n",
    "def maximalRectangle(matrix):\n",
    "    for i in range(len(matrix)):\n",
    "        for j in range(len(matrix[0])):\n",
    "            matrix[i][j] = int(matrix[i][j])\n",
    "    # Initialize the histogram and max area\n",
    "    hist = matrix[0]\n",
    "    max_area = largestRectangleArea(hist)\n",
    "    for i in range(1,len(matrix)):\n",
    "        for j in range(len(matrix[0])):\n",
    "            hist[j] = matrix[i][j]*(hist[j]+matrix[i][j])\n",
    "        max_area = max(max_area,largestRectangleArea(hist))\n",
    "    return max_area"
   ]
  },
  {
   "cell_type": "markdown",
   "metadata": {},
   "source": [
    "### Question 1673: Find the Most Competitive Subsequence\n",
    "We define that a subsequence a is more competitive than a subsequence b (of the same length) if in the first position where a and b differ, subsequence a has a number less than the corresponding number in b"
   ]
  },
  {
   "cell_type": "code",
   "execution_count": null,
   "metadata": {},
   "outputs": [],
   "source": [
    "def mostCompetitive(self, nums: List[int], k: int) -> List[int]:\n",
    "    ans = []\n",
    "    rem = len(nums)-k\n",
    "    for num in nums:\n",
    "        while len(ans)>0 and rem>0 and num<ans[-1]:\n",
    "            ans.pop()\n",
    "            rem -= 1\n",
    "        ans.append(num)\n",
    "    while rem:\n",
    "        ans.pop()\n",
    "        rem -= 1\n",
    "    return ans"
   ]
  }
 ],
 "metadata": {
  "kernelspec": {
   "display_name": "Python 3",
   "language": "python",
   "name": "python3"
  },
  "language_info": {
   "codemirror_mode": {
    "name": "ipython",
    "version": 3
   },
   "file_extension": ".py",
   "mimetype": "text/x-python",
   "name": "python",
   "nbconvert_exporter": "python",
   "pygments_lexer": "ipython3",
   "version": "3.8.5"
  }
 },
 "nbformat": 4,
 "nbformat_minor": 4
}
