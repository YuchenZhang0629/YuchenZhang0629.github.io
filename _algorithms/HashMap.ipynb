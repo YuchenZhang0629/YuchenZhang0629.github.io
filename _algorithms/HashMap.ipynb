{
 "cells": [
  {
   "cell_type": "markdown",
   "metadata": {},
   "source": [
    "# Hash Maps"
   ]
  },
  {
   "cell_type": "markdown",
   "metadata": {},
   "source": [
    "### Question 41: Smallest Missing Positive\n",
    "Given an unsorted integer array nums, return the smallest missing positive integer.\n",
    "You must implement an algorithm that runs in O(n) time and uses constant extra space."
   ]
  },
  {
   "cell_type": "code",
   "execution_count": null,
   "metadata": {},
   "outputs": [],
   "source": [
    "\"\"\"\n",
    "Idea: use input array as hash set\n",
    "Use [1,2,...,len(A)] to map to the 0th...(n-1)th element of input array A\n",
    "Goal: use constant time to tell if a value exist in input array?\n",
    "    -> solutiion: give an index value i = value - 1\n",
    "    -> The corresponding index value of the input array. If negative: then the value exists.\n",
    "Replace all negatives with 0\n",
    "    -> Start from the beginning: assume value = val. Go to the (abs(val)-1)th index of input array\n",
    "    -> If it is not already negative: change to negative.\n",
    "       (example: after all the negatives are changed to 0, a negative at (i-1)th pos means that i exists in input)\n",
    "If we go out of bounds: neglect.\n",
    "If already negative: do not change.\n",
    "Finally: iterate i througn 1 to len(A). If the corresponding (i-1)th term in above is not negative: then\n",
    "    this does not exist, and is the smallest missing positive.\n",
    "\"\"\""
   ]
  },
  {
   "cell_type": "code",
   "execution_count": 113,
   "metadata": {},
   "outputs": [],
   "source": [
    "import numpy as np\n",
    "def firstMissingPositive(nums):\n",
    "    nums = (nums > np.zeros(len(nums))).astype(int)*nums\n",
    "    for i in range(len(nums)):\n",
    "        val = abs(nums[i])\n",
    "        if 1 <= val <= len(nums):\n",
    "            if nums[val-1] > 0:\n",
    "                nums[val-1] *= -1\n",
    "            elif nums[val-1] == 0:\n",
    "                nums[val-1] = -len(nums)-1\n",
    "        \n",
    "    for j in range(1, len(nums)+1):\n",
    "        if nums[j-1] >= 0:\n",
    "            return j\n",
    "    return len(nums)+1"
   ]
  },
  {
   "cell_type": "code",
   "execution_count": 114,
   "metadata": {},
   "outputs": [
    {
     "data": {
      "text/plain": [
       "2"
      ]
     },
     "execution_count": 114,
     "metadata": {},
     "output_type": "execute_result"
    }
   ],
   "source": [
    "firstMissingPositive([0,0,0,1])"
   ]
  }
 ],
 "metadata": {
  "kernelspec": {
   "display_name": "Python 3",
   "language": "python",
   "name": "python3"
  },
  "language_info": {
   "codemirror_mode": {
    "name": "ipython",
    "version": 3
   },
   "file_extension": ".py",
   "mimetype": "text/x-python",
   "name": "python",
   "nbconvert_exporter": "python",
   "pygments_lexer": "ipython3",
   "version": "3.8.5"
  }
 },
 "nbformat": 4,
 "nbformat_minor": 4
}
