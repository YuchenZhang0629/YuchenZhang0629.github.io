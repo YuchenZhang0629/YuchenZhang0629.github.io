{
 "cells": [
  {
   "cell_type": "markdown",
   "metadata": {},
   "source": [
    "# Trees General"
   ]
  },
  {
   "cell_type": "markdown",
   "metadata": {},
   "source": [
    "### Question 105: Constructing trees from preorder and inorder traversal\n",
    "Given two integer arrays preorder and inorder where preorder is the preorder traversal of a binary tree and inorder is the inorder traversal of the same tree, construct and return the binary tree."
   ]
  },
  {
   "cell_type": "code",
   "execution_count": null,
   "metadata": {},
   "outputs": [],
   "source": [
    "\"\"\"\n",
    "Fact: Preorder always starts from root. Take out the root, do the rest recursively.\n",
    "Remove root from preorder, find it in the inorder array.\n",
    "    -> Every value left of it goes into the left subtree\n",
    "    -> Every value right of it goes into the right subtree\n",
    "Afterwards: partition the remaining into left and right in the preorder array\n",
    "\n",
    "\"\"\"\n",
    "def buildTree(preorder, inorder):\n",
    "    if not preorder or not inorder:\n",
    "        return None\n",
    "    root = TreeNode(preorder[0])\n",
    "    pos = inorder.index(preorder[0])\n",
    "    root.left = buildTree(preorder[1:pos+1], inorder[:pos])\n",
    "    root.right = buildTree(preorder[pos+1:], inorder[pos+1:])\n",
    "    return root"
   ]
  }
 ],
 "metadata": {
  "kernelspec": {
   "display_name": "Python 3",
   "language": "python",
   "name": "python3"
  },
  "language_info": {
   "codemirror_mode": {
    "name": "ipython",
    "version": 3
   },
   "file_extension": ".py",
   "mimetype": "text/x-python",
   "name": "python",
   "nbconvert_exporter": "python",
   "pygments_lexer": "ipython3",
   "version": "3.8.5"
  }
 },
 "nbformat": 4,
 "nbformat_minor": 4
}
