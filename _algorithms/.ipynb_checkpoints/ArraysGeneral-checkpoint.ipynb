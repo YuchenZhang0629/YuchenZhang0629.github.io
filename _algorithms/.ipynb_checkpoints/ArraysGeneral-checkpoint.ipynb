{
 "cells": [
  {
   "cell_type": "markdown",
   "metadata": {},
   "source": [
    "# Arrays"
   ]
  },
  {
   "cell_type": "markdown",
   "metadata": {},
   "source": [
    "### Question 4: Median of Two Sorted Arrays\n",
    "Given two sorted arrays nums1 and nums2 of size m and n respectively, return the median of the two sorted arrays. The overall run time complexity should be O(log (m+n))."
   ]
  },
  {
   "cell_type": "code",
   "execution_count": 1,
   "metadata": {},
   "outputs": [],
   "source": [
    "def findMedianSortedArrays(nums1, nums2):\n",
    "    # Iterate over the shorter of the two\n",
    "    if len(nums1) < len(nums2):\n",
    "        A = nums1\n",
    "        B = nums2\n",
    "    else:\n",
    "        A = nums2\n",
    "        B = nums1\n",
    "    total_len = len(A) + len(B)\n",
    "    half = total_len // 2\n",
    "    \n",
    "    # Two pointers, pointing left or right\n",
    "    left = 0\n",
    "    right = len(A)-1\n",
    "    while True:\n",
    "        # Find the index that gives us the left and right partitions\n",
    "        i = (left+right)//2  # A\n",
    "        j = half - i - 2  # B\n",
    "        Aleft = A[i] if i >= 0 else float(\"-infinity\")\n",
    "        Aright = A[i+1] if i < len(A) else float(\"-infinity\")\n",
    "        Bleft = B[i] if i >= 0 else float(\"-infinity\")\n",
    "        Bright = B[i+1] if i < len(B) else float(\"-infinity\")\n",
    "        "
   ]
  }
 ],
 "metadata": {
  "kernelspec": {
   "display_name": "Python 3",
   "language": "python",
   "name": "python3"
  },
  "language_info": {
   "codemirror_mode": {
    "name": "ipython",
    "version": 3
   },
   "file_extension": ".py",
   "mimetype": "text/x-python",
   "name": "python",
   "nbconvert_exporter": "python",
   "pygments_lexer": "ipython3",
   "version": "3.8.5"
  }
 },
 "nbformat": 4,
 "nbformat_minor": 4
}
