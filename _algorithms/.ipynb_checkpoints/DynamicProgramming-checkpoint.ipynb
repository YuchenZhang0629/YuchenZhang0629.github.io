{
 "cells": [
  {
   "cell_type": "markdown",
   "metadata": {},
   "source": [
    "# Dynamic Programming"
   ]
  },
  {
   "cell_type": "markdown",
   "metadata": {},
   "source": [
    "### Question 32: Longest Valid Parenthesis\n",
    "Given a string containing just the characters '(' and ')', find the length of the longest valid (well-formed) parentheses substring"
   ]
  },
  {
   "cell_type": "code",
   "execution_count": null,
   "metadata": {},
   "outputs": [],
   "source": [
    "\"\"\"\n",
    "Scan from left to right, if right > left: set count = 0\n",
    "Scan from right to left, if left > right: set count = 0\n",
    "\"\"\"\n",
    "def longestValidParentheses(s):\n",
    "    if len(s) == 0:\n",
    "        return 0\n",
    "    # Left traverse\n",
    "    left_count = [0]*len(s)\n",
    "    left_left = 0\n",
    "    left_right = 0\n",
    "    for i in range(len(s)):\n",
    "        if s[i] == \"(\":\n",
    "            left_left += 1\n",
    "        elif s[i] == \")\":\n",
    "            left_right += 1\n",
    "        if left_left == left_right:\n",
    "            left_count[i] = left_count[i-2*left_left] + 2*left_left\n",
    "            left_left = left_right = 0\n",
    "        if left_right > left_left:\n",
    "            left_left = left_right = 0\n",
    "            left_count[i] = 0\n",
    "    # Right traverse\n",
    "    right_count = [0]*len(s)\n",
    "    right_left = 0\n",
    "    right_right = 0\n",
    "    for i in range(len(s)):\n",
    "        if s[-(i+1)] == \"(\":\n",
    "            right_left += 1\n",
    "        elif s[-(i+1)] == \")\":\n",
    "            right_right += 1\n",
    "        if right_left == right_right:\n",
    "            right_count[-(i+1)] = right_count[-(i+1)+2*right_left] + 2*right_left\n",
    "            right_left = right_right = 0\n",
    "        if right_left > right_right:\n",
    "            right_left = right_right = 0\n",
    "            right_count[-(i+1)] = 0\n",
    "    return max(max(right_count), max(left_count))"
   ]
  }
 ],
 "metadata": {
  "kernelspec": {
   "display_name": "Python 3",
   "language": "python",
   "name": "python3"
  },
  "language_info": {
   "codemirror_mode": {
    "name": "ipython",
    "version": 3
   },
   "file_extension": ".py",
   "mimetype": "text/x-python",
   "name": "python",
   "nbconvert_exporter": "python",
   "pygments_lexer": "ipython3",
   "version": "3.8.5"
  }
 },
 "nbformat": 4,
 "nbformat_minor": 4
}
