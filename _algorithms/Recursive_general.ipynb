{
 "cells": [
  {
   "cell_type": "markdown",
   "metadata": {},
   "source": [
    "# Recursive algorithms general"
   ]
  },
  {
   "cell_type": "markdown",
   "metadata": {},
   "source": [
    "### Question 208, Recursive Tree (Trie)"
   ]
  },
  {
   "cell_type": "code",
   "execution_count": null,
   "metadata": {},
   "outputs": [],
   "source": [
    "class TrieNode:\n",
    "    def __init__(self):\n",
    "        self.children = {}  # Use a hash map to \n",
    "        self.EndOfWord = False  # Check whether a letter is the end of a word\n",
    "        # Inserting a node: children[\"a\"] = TrieNode()\n",
    "\n",
    "class Trie:\n",
    "    def __init__(self):\n",
    "        self.root = TrieNode()\n",
    "    def insert(self, word):\n",
    "        # Initially start at the root\n",
    "        cur = self.root\n",
    "        for c in word:\n",
    "            if c not in cur.children:\n",
    "                cur.children[c] = TrieNode()\n",
    "            # If already exists: move to the children\n",
    "            cur = cur.children[c]\n",
    "        # After looping over the length of the word: mark end\n",
    "        cur.EndOfWord = True\n",
    "    def search(self, word):\n",
    "        cur = self.root\n",
    "        for c in word:\n",
    "            if c not in cur.children:\n",
    "                return False\n",
    "            # Else: update the cur to the child node of that character\n",
    "            cur = cur.children[c]\n",
    "        # If the last one has EndOfWord variable true: return true. Else not.\n",
    "        return cur.EndOfWord\n",
    "    \n",
    "    def startsWith(self, prefix):\n",
    "        cur = self.root\n",
    "        \n",
    "        for c in prefix:\n",
    "            if c not in cur.children:\n",
    "                return False\n",
    "            cur = cur.children[c]\n",
    "        return True"
   ]
  },
  {
   "cell_type": "markdown",
   "metadata": {},
   "source": [
    "### Merging K sorted lists\n",
    "### Question 21/23\n",
    "### Heaps / Priority Queue"
   ]
  },
  {
   "cell_type": "code",
   "execution_count": null,
   "metadata": {},
   "outputs": [],
   "source": [
    "# First we need to define a function that merges two lists\n",
    "def mergeList(self, l1, l2):\n",
    "    dummy = ListNode()\n",
    "    tail = dummy\n",
    "    while l1 and l2:\n",
    "        if l1.val < l2.val:\n",
    "            tail.next = l1\n",
    "            l1 = l1.next\n",
    "        else:\n",
    "            tail.next = l2\n",
    "            l2 = l2.next\n",
    "        tail = tail.next\n",
    "    if l1:\n",
    "        tail.next = l1\n",
    "    if l2:\n",
    "        tail.next = l2\n",
    "    return dummy.next\n",
    "    \n",
    "def mergeKLists(self, lists):\n",
    "    if not lists or len(lists) == 0:\n",
    "        return None\n",
    "    # Else: taking two and merging them each time\n",
    "    # Repeat merging until there is only one remaining\n",
    "    while len(lists) > 1:\n",
    "        mergedList = []\n",
    "        \n",
    "        # Increment by 2 because we are iterating (merging) two at a time\n",
    "        for i in range(0, len(lists), 2):\n",
    "            l1 = lists[i]\n",
    "            l2 = lists[i+1] if (i+1) < len(lists) else None\n",
    "            mergedList.append(self.mergeList(l1, l2))\n",
    "        lists = mergedList\n",
    "    return lists[0]"
   ]
  },
  {
   "cell_type": "markdown",
   "metadata": {},
   "source": [
    "### Combination Sum\n",
    "### Question 39\n",
    "### Backtracking"
   ]
  },
  {
   "cell_type": "code",
   "execution_count": 13,
   "metadata": {},
   "outputs": [],
   "source": [
    "\"\"\"\n",
    "What if instead of adding up, subtract from the final result？\n",
    "Stop condition：No matter how we subtract, stop at only the candidates remaining\n",
    "\"\"\"\n",
    "def combinationSum(candidates, target):\n",
    "    ans = []\n",
    "    if len(candidates) == 0:\n",
    "        return []\n",
    "    elif len(candidates) == 1:\n",
    "        if candidates[0] == target:\n",
    "            return [candidates]\n",
    "        else:\n",
    "            return []\n",
    "    else:\n",
    "        for i in range(len(candidates)):\n",
    "            ans.append(combinationSum(candidates[:i] + candidates[i+1:], target - candidates[i]))\n",
    "    return ans"
   ]
  },
  {
   "cell_type": "code",
   "execution_count": 19,
   "metadata": {},
   "outputs": [],
   "source": [
    "def combinationSum(candidates, target):\n",
    "    ans = []\n",
    "    \n",
    "    def dfs(i, cur, total):\n",
    "        if total == target:\n",
    "            # Want to use cur for other purposes, so create a copy\n",
    "            ans.append(cur.copy())\n",
    "            return\n",
    "        elif i >= len(candidates) or total > target:\n",
    "            return\n",
    "        # First recursion: include the ith element\n",
    "        cur.append(candidates[i])\n",
    "        dfs(i, cur, total+candidates[i])\n",
    "        # Second recursion: not include the ith element\n",
    "        cur.pop()\n",
    "        dfs(i+1, cur, total)\n",
    "        \n",
    "    dfs(0,[],0)\n",
    "    return ans"
   ]
  },
  {
   "cell_type": "code",
   "execution_count": 18,
   "metadata": {},
   "outputs": [
    {
     "data": {
      "text/plain": [
       "[[1, 1, 1, 1, 1, 1, 1],\n",
       " [1, 1, 1, 1, 1, 2],\n",
       " [1, 1, 1, 1, 3],\n",
       " [1, 1, 1, 2, 2],\n",
       " [1, 1, 2, 3],\n",
       " [1, 2, 2, 2],\n",
       " [1, 3, 3],\n",
       " [2, 2, 3]]"
      ]
     },
     "execution_count": 18,
     "metadata": {},
     "output_type": "execute_result"
    }
   ],
   "source": [
    "combinationSum([1,2,3],7)"
   ]
  }
 ],
 "metadata": {
  "kernelspec": {
   "display_name": "Python 3",
   "language": "python",
   "name": "python3"
  },
  "language_info": {
   "codemirror_mode": {
    "name": "ipython",
    "version": 3
   },
   "file_extension": ".py",
   "mimetype": "text/x-python",
   "name": "python",
   "nbconvert_exporter": "python",
   "pygments_lexer": "ipython3",
   "version": "3.8.5"
  }
 },
 "nbformat": 4,
 "nbformat_minor": 4
}
