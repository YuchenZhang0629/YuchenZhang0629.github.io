{
 "cells": [
  {
   "cell_type": "markdown",
   "metadata": {},
   "source": [
    "# Bit Manipulation"
   ]
  },
  {
   "cell_type": "markdown",
   "metadata": {},
   "source": [
    "### Question 67: Binary Addition"
   ]
  },
  {
   "cell_type": "code",
   "execution_count": null,
   "metadata": {},
   "outputs": [],
   "source": [
    "def addBinary(a, b):\n",
    "    res = \"\"\n",
    "    carry = 0\n",
    "    a = a[::-1]\n",
    "    b = b[::-1]\n",
    "    for i in range(max(len(a), len(b))):\n",
    "        digitA = ord(a[i])-ord(\"0\") if i < len(a) else 0\n",
    "        digitB = ord(b[i])-ord(\"0\") if i < len(b) else 0\n",
    "        total = digitA+digitB+carry\n",
    "        char = str(total%2)\n",
    "        res = char+res\n",
    "        carry = total//2\n",
    "    if carry == 1:\n",
    "        res = \"1\"+res\n",
    "    return res"
   ]
  }
 ],
 "metadata": {
  "kernelspec": {
   "display_name": "Python 3",
   "language": "python",
   "name": "python3"
  },
  "language_info": {
   "codemirror_mode": {
    "name": "ipython",
    "version": 3
   },
   "file_extension": ".py",
   "mimetype": "text/x-python",
   "name": "python",
   "nbconvert_exporter": "python",
   "pygments_lexer": "ipython3",
   "version": "3.8.5"
  }
 },
 "nbformat": 4,
 "nbformat_minor": 4
}
