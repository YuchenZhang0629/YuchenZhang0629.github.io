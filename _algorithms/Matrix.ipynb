{
 "cells": [
  {
   "cell_type": "markdown",
   "metadata": {},
   "source": [
    "# Matrices"
   ]
  },
  {
   "cell_type": "markdown",
   "metadata": {},
   "source": [
    "### Question 36: Valid Sudokus\n",
    "For a Sudoku to be valid, we need:\n",
    "1. Each row containing 1 to 9 exactly once\n",
    "2. Each column containing 1 to 9 exactly once\n",
    "3. Each 3*3 box containing 1 to 9 exactly once"
   ]
  },
  {
   "cell_type": "code",
   "execution_count": null,
   "metadata": {},
   "outputs": [],
   "source": [
    "\"\"\"\n",
    "Use a hash set to detect duplicates for each column, row, and 3*3 bracket\n",
    "Implement a key for the hash map: rownum/3, colnum/3, take integer, get 0 or 1 or 2\n",
    "\"\"\""
   ]
  },
  {
   "cell_type": "code",
   "execution_count": 8,
   "metadata": {},
   "outputs": [],
   "source": [
    "import collections\n",
    "def IsValid(Board):\n",
    "    # First use hash sets to detect duplicates in columns\n",
    "    cols = collections.defaultdict(set)\n",
    "    rows = collections.defaultdict(set)\n",
    "    squares = collections.defaultdict(set)  # Here, key = (r/3, c/3T\n",
    "    for r in range(9):\n",
    "        for c in range(9):\n",
    "            if Board[r][c] == \".\":\n",
    "                continue\n",
    "            if (Board[r][c] in rows[r] or \n",
    "                Board[r][c] in cols[c] or\n",
    "                Board[r][c] in squares[(r//3, c//3)]):\n",
    "                return False\n",
    "            # If not: update the hash set\n",
    "            rows[r].add(Board[r][c])\n",
    "            cols[c].add(Board[r][c])\n",
    "            squares[(r//3,c//3)].add(Board[r][c])\n",
    "    return True"
   ]
  }
 ],
 "metadata": {
  "kernelspec": {
   "display_name": "Python 3",
   "language": "python",
   "name": "python3"
  },
  "language_info": {
   "codemirror_mode": {
    "name": "ipython",
    "version": 3
   },
   "file_extension": ".py",
   "mimetype": "text/x-python",
   "name": "python",
   "nbconvert_exporter": "python",
   "pygments_lexer": "ipython3",
   "version": "3.8.5"
  }
 },
 "nbformat": 4,
 "nbformat_minor": 4
}
