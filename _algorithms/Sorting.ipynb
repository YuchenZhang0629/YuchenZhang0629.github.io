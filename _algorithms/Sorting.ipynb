{
 "cells": [
  {
   "cell_type": "markdown",
   "metadata": {},
   "source": [
    "# Sorting"
   ]
  },
  {
   "cell_type": "markdown",
   "metadata": {},
   "source": [
    "### Question 49: Group Anagrams (Hash Map)\n",
    "Given an array of strings strs, group the anagrams together. You can return the answer in any order.\n",
    "An Anagram is a word or phrase formed by rearranging the letters of a different word or phrase, typically using all the original letters exactly once."
   ]
  },
  {
   "cell_type": "code",
   "execution_count": 211,
   "metadata": {},
   "outputs": [],
   "source": [
    "\"\"\"\n",
    "My solution: check for unque dictionaries\n",
    "If new: add new to the dictionary hash sets\n",
    "Otherwise: add to the corresponding lists of words\n",
    "\"\"\"\n",
    "import collections\n",
    "def groupAnagrams(strs):\n",
    "    ans = []\n",
    "    a = collections.defaultdict(set)\n",
    "    a_pointer = 0\n",
    "    for i in range(len(strs)):\n",
    "        word_temp = strs[i]\n",
    "        letter_reserve = []\n",
    "        dict_temp = {}\n",
    "        for i in range(len(word_temp)):\n",
    "            if word_temp[i] not in letter_reserve:\n",
    "                dict_temp[word_temp[i]] = 1\n",
    "                letter_reserve.append(word_temp[i])\n",
    "            else:\n",
    "                dict_temp[word_temp[i]] += 1\n",
    "            \n",
    "        # After we obtian the dict: we check whether there exist \n",
    "        if all(a[k+1] != dict_temp for k in range(len(a))):\n",
    "            a_pointer += 1\n",
    "            a[a_pointer] = dict_temp\n",
    "            ans.append([word_temp])\n",
    "        else:\n",
    "            index = 0\n",
    "            while a[index+1] != dict_temp:\n",
    "                index += 1\n",
    "                if a[index+1] == dict_temp:\n",
    "                    break\n",
    "            ans[index].append(word_temp)\n",
    "    return ans"
   ]
  },
  {
   "cell_type": "code",
   "execution_count": 228,
   "metadata": {},
   "outputs": [],
   "source": [
    "\"\"\"\n",
    "Solution 2\n",
    "Use how many of which letters are there in a string as key for hash map\n",
    "\"\"\"\n",
    "def groupAnagrams2(strs):\n",
    "    res = collections.defaultdict(list)\n",
    "    for s in strs:\n",
    "        count = [0]*26 # lower case a to lower case z\n",
    "        for c in s:\n",
    "            count[ord(c)-ord(\"a\")] += 1\n",
    "        res[tuple(count)].append(s)\n",
    "    return res.values()"
   ]
  },
  {
   "cell_type": "markdown",
   "metadata": {},
   "source": [
    "# Question 56: Merging Intervals\n",
    "Given an array of intervals where intervals[i] = [starti, endi], merge all overlapping intervals, and return an array of the non-overlapping intervals that cover all the intervals in the input"
   ]
  },
  {
   "cell_type": "code",
   "execution_count": 30,
   "metadata": {},
   "outputs": [],
   "source": [
    "\"\"\"\n",
    "First we need to sort the intervals with respect to start\n",
    "Then loop through all the intervals in linear time\n",
    "    -> If start of next is within the current interval: update end\n",
    "    -> If not: then add it as a new interval\n",
    "\"\"\"\n",
    "def merge(intervals):\n",
    "    intervals.sort(key = lambda x:x[0])\n",
    "    Int = [intervals[0]]\n",
    "    for i in range(1, len(intervals)):\n",
    "        if intervals[i][0] <= Int[-1][1]:\n",
    "            Int[-1][1] = max(Int[-1][1],intervals[i][1])\n",
    "        else:\n",
    "            Int = Int + [intervals[i]]\n",
    "    return Int"
   ]
  }
 ],
 "metadata": {
  "kernelspec": {
   "display_name": "Python 3",
   "language": "python",
   "name": "python3"
  },
  "language_info": {
   "codemirror_mode": {
    "name": "ipython",
    "version": 3
   },
   "file_extension": ".py",
   "mimetype": "text/x-python",
   "name": "python",
   "nbconvert_exporter": "python",
   "pygments_lexer": "ipython3",
   "version": "3.8.5"
  }
 },
 "nbformat": 4,
 "nbformat_minor": 4
}
