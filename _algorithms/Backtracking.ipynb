{
 "cells": [
  {
   "cell_type": "markdown",
   "metadata": {},
   "source": [
    "# Backtracking"
   ]
  },
  {
   "cell_type": "markdown",
   "metadata": {},
   "source": [
    "### Question 39: combination sum\n",
    "Given an array of distinct integers candidates and a target integer target, return a list of all unique combinations of candidates where the chosen numbers sum to target"
   ]
  },
  {
   "cell_type": "code",
   "execution_count": null,
   "metadata": {},
   "outputs": [],
   "source": [
    "\"\"\"\n",
    "What if instead of adding up, subtract from the final result？\n",
    "Stop condition：No matter how we subtract, stop at only the candidates remaining\n",
    "\"\"\"\n",
    "def combinationSum(candidates, target):\n",
    "    ans = []\n",
    "    if len(candidates) == 0:\n",
    "        return []\n",
    "    elif len(candidates) == 1:\n",
    "        if candidates[0] == target:\n",
    "            return [candidates]\n",
    "        else:\n",
    "            return []\n",
    "    else:\n",
    "        for i in range(len(candidates)):\n",
    "            ans.append(combinationSum(candidates[:i] + candidates[i+1:], target - candidates[i]))\n",
    "    return ans"
   ]
  },
  {
   "cell_type": "code",
   "execution_count": null,
   "metadata": {},
   "outputs": [],
   "source": [
    "def combinationSum(candidates, target):\n",
    "    ans = []\n",
    "    \n",
    "    def dfs(i, cur, total):\n",
    "        if total == target:\n",
    "            # Want to use cur for other purposes, so create a copy\n",
    "            ans.append(cur.copy())\n",
    "            return\n",
    "        elif i >= len(candidates) or total > target:\n",
    "            return\n",
    "        # First recursion: include the ith element\n",
    "        cur.append(candidates[i])\n",
    "        dfs(i, cur, total+candidates[i])\n",
    "        # Second recursion: not include the ith element\n",
    "        cur.pop()\n",
    "        dfs(i+1, cur, total)\n",
    "        \n",
    "    dfs(0,[],0)\n",
    "    return ans"
   ]
  }
 ],
 "metadata": {
  "kernelspec": {
   "display_name": "Python 3",
   "language": "python",
   "name": "python3"
  },
  "language_info": {
   "codemirror_mode": {
    "name": "ipython",
    "version": 3
   },
   "file_extension": ".py",
   "mimetype": "text/x-python",
   "name": "python",
   "nbconvert_exporter": "python",
   "pygments_lexer": "ipython3",
   "version": "3.8.5"
  }
 },
 "nbformat": 4,
 "nbformat_minor": 4
}
